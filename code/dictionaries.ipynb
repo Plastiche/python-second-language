{
 "cells": [
  {
   "cell_type": "markdown",
   "metadata": {},
   "source": [
    "# Dictionaries"
   ]
  },
  {
   "cell_type": "code",
   "execution_count": 24,
   "metadata": {
    "collapsed": false
   },
   "outputs": [
    {
     "data": {
      "text/plain": [
       "[16, 25, 20, 8, 15, 14]"
      ]
     },
     "execution_count": 24,
     "metadata": {},
     "output_type": "execute_result"
    }
   ],
   "source": [
    "# creating a dictionary\n",
    "this_dict = {\"Alfred\": 92, \"Beatrice\": 97, \"Carson\": 96}\n",
    "\n",
    "this_dict.keys()\n",
    "this_dict.values()\n",
    "\n",
    "names = [\"Alfred\", \"Beatrice\", \"Carson\"]\n",
    "scores = [92, 97, 96]\n",
    "\n",
    "dict([[\"Alfred\", 92], [\"Beatrice\", 97], [\"Carson\", 96]])\n",
    "dict(zip(names, scores))\n",
    "\n",
    "# Dict comprehension (if we covered list comprehension)\n",
    "{names[i]:scores[i] for i in range(len(scores))}"
   ]
  },
  {
   "cell_type": "markdown",
   "metadata": {},
   "source": [
    "## Exercise, create a dictionary that would help you with a caesar cipher:"
   ]
  },
  {
   "cell_type": "code",
   "execution_count": 25,
   "metadata": {
    "collapsed": false
   },
   "outputs": [
    {
     "data": {
      "text/plain": [
       "[16, 25, 20, 8, 15, 14]"
      ]
     },
     "execution_count": 25,
     "metadata": {},
     "output_type": "execute_result"
    }
   ],
   "source": [
    "import string\n",
    "alpha_dict = dict(zip([s for s in string.ascii_lowercase], range(1, 27)))\n",
    "\n",
    "def encode(string, offset=0):\n",
    "    return [alpha_dict[s]+offset for s in string.lower()]\n",
    "\n",
    "encode(\"python\")"
   ]
  },
  {
   "cell_type": "markdown",
   "metadata": {},
   "source": [
    "## Exercise: Think of something from your own research that might fit into a dictionary"
   ]
  },
  {
   "cell_type": "code",
   "execution_count": null,
   "metadata": {
    "collapsed": true
   },
   "outputs": [],
   "source": []
  }
 ],
 "metadata": {
  "kernelspec": {
   "display_name": "Python 3",
   "language": "python",
   "name": "python3"
  },
  "language_info": {
   "codemirror_mode": {
    "name": "ipython",
    "version": 3
   },
   "file_extension": ".py",
   "mimetype": "text/x-python",
   "name": "python",
   "nbconvert_exporter": "python",
   "pygments_lexer": "ipython3",
   "version": "3.5.1"
  }
 },
 "nbformat": 4,
 "nbformat_minor": 0
}
