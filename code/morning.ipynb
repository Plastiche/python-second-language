{
 "cells": [
  {
   "cell_type": "code",
   "execution_count": 2,
   "metadata": {
    "collapsed": false
   },
   "outputs": [
    {
     "name": "stdout",
     "output_type": "stream",
     "text": [
      "Hello, LBL\n"
     ]
    }
   ],
   "source": [
    "print(\"Hello, LBL\")"
   ]
  },
  {
   "cell_type": "code",
   "execution_count": 4,
   "metadata": {
    "collapsed": false
   },
   "outputs": [
    {
     "name": "stdout",
     "output_type": "stream",
     "text": [
      "3\n",
      "48\n"
     ]
    }
   ],
   "source": [
    "print(1+2)\n",
    "print(3*4**2)"
   ]
  },
  {
   "cell_type": "markdown",
   "metadata": {},
   "source": [
    "## Hash marks for titles.\n",
    "Some sort of comment on the code.\n",
    "I can use *single star* for italics, **double star** for bold.\n",
    "\n",
    "$\\sigma_0^N x_i = \\pi^2$"
   ]
  },
  {
   "cell_type": "code",
   "execution_count": 5,
   "metadata": {
    "collapsed": false
   },
   "outputs": [
    {
     "name": "stdout",
     "output_type": "stream",
     "text": [
      "5 <class 'int'>\n"
     ]
    }
   ],
   "source": [
    "print(5, type(5))"
   ]
  },
  {
   "cell_type": "code",
   "execution_count": 6,
   "metadata": {
    "collapsed": false
   },
   "outputs": [
    {
     "name": "stdout",
     "output_type": "stream",
     "text": [
      "5.0 <class 'float'>\n"
     ]
    }
   ],
   "source": [
    "print(5.0, type(5.0))"
   ]
  },
  {
   "cell_type": "code",
   "execution_count": 7,
   "metadata": {
    "collapsed": false
   },
   "outputs": [
    {
     "name": "stdout",
     "output_type": "stream",
     "text": [
      "gold <class 'str'>\n"
     ]
    }
   ],
   "source": [
    "print(\"gold\", type(\"gold\"))"
   ]
  },
  {
   "cell_type": "code",
   "execution_count": 8,
   "metadata": {
    "collapsed": true
   },
   "outputs": [],
   "source": [
    "cat = \"Fluffy\""
   ]
  },
  {
   "cell_type": "code",
   "execution_count": 9,
   "metadata": {
    "collapsed": false
   },
   "outputs": [
    {
     "name": "stdout",
     "output_type": "stream",
     "text": [
      "Fluffy\n"
     ]
    }
   ],
   "source": [
    "print(cat)"
   ]
  },
  {
   "cell_type": "code",
   "execution_count": 10,
   "metadata": {
    "collapsed": false
   },
   "outputs": [
    {
     "name": "stdout",
     "output_type": "stream",
     "text": [
      "6\n"
     ]
    }
   ],
   "source": [
    "print(len(cat))"
   ]
  },
  {
   "cell_type": "code",
   "execution_count": 11,
   "metadata": {
    "collapsed": false
   },
   "outputs": [
    {
     "name": "stdout",
     "output_type": "stream",
     "text": [
      "F f\n"
     ]
    }
   ],
   "source": [
    "print(cat[0], cat[3])"
   ]
  },
  {
   "cell_type": "code",
   "execution_count": 12,
   "metadata": {
    "collapsed": false
   },
   "outputs": [
    {
     "name": "stdout",
     "output_type": "stream",
     "text": [
      "Fluffy\n"
     ]
    }
   ],
   "source": [
    "print(cat)"
   ]
  },
  {
   "cell_type": "code",
   "execution_count": 13,
   "metadata": {
    "collapsed": false
   },
   "outputs": [
    {
     "ename": "TypeError",
     "evalue": "'str' object does not support item assignment",
     "output_type": "error",
     "traceback": [
      "\u001b[0;31m---------------------------------------------------------------------------\u001b[0m",
      "\u001b[0;31mTypeError\u001b[0m                                 Traceback (most recent call last)",
      "\u001b[0;32m<ipython-input-13-ac006a5c7c85>\u001b[0m in \u001b[0;36m<module>\u001b[0;34m()\u001b[0m\n\u001b[0;32m----> 1\u001b[0;31m \u001b[0mcat\u001b[0m\u001b[0;34m[\u001b[0m\u001b[0;36m5\u001b[0m\u001b[0;34m]\u001b[0m \u001b[0;34m=\u001b[0m \u001b[0;34m\"e\"\u001b[0m\u001b[0;34m\u001b[0m\u001b[0m\n\u001b[0m",
      "\u001b[0;31mTypeError\u001b[0m: 'str' object does not support item assignment"
     ]
    }
   ],
   "source": [
    "cat[5] = \"e\""
   ]
  },
  {
   "cell_type": "code",
   "execution_count": 14,
   "metadata": {
    "collapsed": false
   },
   "outputs": [
    {
     "name": "stdout",
     "output_type": "stream",
     "text": [
      "F\n",
      "l\n",
      "u\n",
      "f\n",
      "f\n",
      "y\n"
     ]
    }
   ],
   "source": [
    "for character in \"Fluffy\":\n",
    "    print(character)"
   ]
  },
  {
   "cell_type": "code",
   "execution_count": 16,
   "metadata": {
    "collapsed": false
   },
   "outputs": [
    {
     "name": "stdout",
     "output_type": "stream",
     "text": [
      "-25\n"
     ]
    }
   ],
   "source": [
    "total = 0\n",
    "for number in [1, 3, 5, 7, 9]:\n",
    "    total -= number # same as total = total - number\n",
    "print(total)"
   ]
  },
  {
   "cell_type": "code",
   "execution_count": 18,
   "metadata": {
    "collapsed": false
   },
   "outputs": [
    {
     "name": "stdout",
     "output_type": "stream",
     "text": [
      "0: 2\n",
      "4: 9\n"
     ]
    }
   ],
   "source": [
    "numbers = [2, 3, 5, 7, 9]\n",
    "print(\"0:\", numbers[0])\n",
    "print(\"4:\", numbers[4])"
   ]
  },
  {
   "cell_type": "code",
   "execution_count": 19,
   "metadata": {
    "collapsed": false
   },
   "outputs": [
    {
     "ename": "IndexError",
     "evalue": "list index out of range",
     "output_type": "error",
     "traceback": [
      "\u001b[0;31m---------------------------------------------------------------------------\u001b[0m",
      "\u001b[0;31mIndexError\u001b[0m                                Traceback (most recent call last)",
      "\u001b[0;32m<ipython-input-19-25bc3c550b72>\u001b[0m in \u001b[0;36m<module>\u001b[0;34m()\u001b[0m\n\u001b[0;32m----> 1\u001b[0;31m \u001b[0mprint\u001b[0m\u001b[0;34m(\u001b[0m\u001b[0mnumbers\u001b[0m\u001b[0;34m[\u001b[0m\u001b[0;36m5\u001b[0m\u001b[0;34m]\u001b[0m\u001b[0;34m)\u001b[0m\u001b[0;34m\u001b[0m\u001b[0m\n\u001b[0m",
      "\u001b[0;31mIndexError\u001b[0m: list index out of range"
     ]
    }
   ],
   "source": [
    "print(numbers[5])"
   ]
  },
  {
   "cell_type": "code",
   "execution_count": 21,
   "metadata": {
    "collapsed": false
   },
   "outputs": [
    {
     "name": "stdout",
     "output_type": "stream",
     "text": [
      "[2, 3, 5, 7, 9] 9 7\n"
     ]
    }
   ],
   "source": [
    "print(numbers, numbers[-1], numbers[-2])"
   ]
  },
  {
   "cell_type": "code",
   "execution_count": 22,
   "metadata": {
    "collapsed": false
   },
   "outputs": [
    {
     "data": {
      "text/plain": [
       "True"
      ]
     },
     "execution_count": 22,
     "metadata": {},
     "output_type": "execute_result"
    }
   ],
   "source": [
    "numbers[len(numbers) - 1] == numbers[-1]"
   ]
  },
  {
   "cell_type": "code",
   "execution_count": 23,
   "metadata": {
    "collapsed": false
   },
   "outputs": [
    {
     "name": "stdout",
     "output_type": "stream",
     "text": [
      "small!\n",
      "big!\n",
      "big!\n"
     ]
    }
   ],
   "source": [
    "for number in [10, 20, 30]:\n",
    "    if number > 15:\n",
    "        print(\"big!\")\n",
    "    else:\n",
    "        print(\"small!\")"
   ]
  },
  {
   "cell_type": "markdown",
   "metadata": {},
   "source": [
    "## First Exercise\n",
    "\n",
    "Given the list [5, -3, 2, 10, -7], produce the sum of all non-negative values."
   ]
  },
  {
   "cell_type": "code",
   "execution_count": 24,
   "metadata": {
    "collapsed": false
   },
   "outputs": [
    {
     "name": "stdout",
     "output_type": "stream",
     "text": [
      "17\n"
     ]
    }
   ],
   "source": [
    "numbers = [5, -3, 2, 10, -7]\n",
    "total = 0\n",
    "for n in numbers:\n",
    "    if n >= 0:\n",
    "        total += n\n",
    "print(total)"
   ]
  },
  {
   "cell_type": "code",
   "execution_count": 28,
   "metadata": {
    "collapsed": false
   },
   "outputs": [
    {
     "name": "stdout",
     "output_type": "stream",
     "text": [
      "[5, -3, 2, 10, -7]\n",
      "17\n"
     ]
    }
   ],
   "source": [
    "print(numbers)\n",
    "positives = sum([n for n in numbers if n >= 0])\n",
    "print(positives)"
   ]
  },
  {
   "cell_type": "markdown",
   "metadata": {},
   "source": [
    "## A Definition\n",
    "\n",
    "The *scan* of a list with a particular function is the cumulative sum using that function, i.e., the scan of [x, y, z] with + is [x, x+y, x+y+z], but the scan with `*` is `[x, x*y, x*y*z]`.\n"
   ]
  },
  {
   "cell_type": "code",
   "execution_count": 29,
   "metadata": {
    "collapsed": false
   },
   "outputs": [
    {
     "name": "stdout",
     "output_type": "stream",
     "text": [
      "5\n",
      "5\n"
     ]
    }
   ],
   "source": [
    "def greatest(x, y):\n",
    "    if x > y:\n",
    "        return x\n",
    "    else:\n",
    "        return y\n",
    "\n",
    "print(greatest(3, 5))\n",
    "print(greatest(5, 3))"
   ]
  },
  {
   "cell_type": "code",
   "execution_count": 37,
   "metadata": {
    "collapsed": false
   },
   "outputs": [
    {
     "name": "stdout",
     "output_type": "stream",
     "text": [
      "[]\n",
      "[5]\n",
      "[5, 15]\n",
      "[5, 15, 12]\n"
     ]
    }
   ],
   "source": [
    "def scan_plus(values, start=0):\n",
    "    \"\"\"\n",
    "    Calculate running sum of values, using start as seed.\n",
    "    \"\"\"\n",
    "    result = []\n",
    "    total = start\n",
    "    for v in values:\n",
    "        total += v\n",
    "        result.append(total)\n",
    "    return result\n",
    "\n",
    "print(scan_plus([])) # should be an empty list\n",
    "print(scan_plus([5])) # should be [5]\n",
    "print(scan_plus([5, 10])) # should be [5, 15]\n",
    "print(scan_plus([5, 10, -3])) # should be [5, 15, 12]"
   ]
  },
  {
   "cell_type": "code",
   "execution_count": 36,
   "metadata": {
    "collapsed": false
   },
   "outputs": [
    {
     "name": "stdout",
     "output_type": "stream",
     "text": [
      "['a', 'ab', 'abc']\n"
     ]
    }
   ],
   "source": [
    "print(scan_plus([\"a\", \"b\", \"c\"], \"\")) # should be...?"
   ]
  },
  {
   "cell_type": "code",
   "execution_count": 38,
   "metadata": {
    "collapsed": false
   },
   "outputs": [
    {
     "name": "stdout",
     "output_type": "stream",
     "text": [
      "Help on function scan_plus in module __main__:\n",
      "\n",
      "scan_plus(values, start=0)\n",
      "    Calculate running sum of values, using start as seed.\n",
      "\n"
     ]
    }
   ],
   "source": [
    "help(scan_plus)"
   ]
  },
  {
   "cell_type": "code",
   "execution_count": 39,
   "metadata": {
    "collapsed": false
   },
   "outputs": [
    {
     "name": "stdout",
     "output_type": "stream",
     "text": [
      "Help on built-in function len in module builtins:\n",
      "\n",
      "len(obj, /)\n",
      "    Return the number of items in a container.\n",
      "\n"
     ]
    }
   ],
   "source": [
    "help(len)"
   ]
  },
  {
   "cell_type": "code",
   "execution_count": 40,
   "metadata": {
    "collapsed": false
   },
   "outputs": [
    {
     "name": "stdout",
     "output_type": "stream",
     "text": [
      "Help on built-in function sum in module builtins:\n",
      "\n",
      "sum(iterable, start=0, /)\n",
      "    Return the sum of a 'start' value (default: 0) plus an iterable of numbers\n",
      "    \n",
      "    When the iterable is empty, return the start value.\n",
      "    This function is intended specifically for use with numeric values and may\n",
      "    reject non-numeric types.\n",
      "\n"
     ]
    }
   ],
   "source": [
    "help(sum)"
   ]
  },
  {
   "cell_type": "code",
   "execution_count": 44,
   "metadata": {
    "collapsed": false
   },
   "outputs": [
    {
     "name": "stdout",
     "output_type": "stream",
     "text": [
      "g l\n",
      "o e\n",
      "l a\n",
      "d d\n"
     ]
    }
   ],
   "source": [
    "for (left, right) in zip(\"gold\", \"lead\"):\n",
    "    print(left, right)"
   ]
  },
  {
   "cell_type": "code",
   "execution_count": 46,
   "metadata": {
    "collapsed": false
   },
   "outputs": [
    {
     "name": "stdout",
     "output_type": "stream",
     "text": [
      "[11, 22, 33]\n",
      "[-9, -18, -27]\n"
     ]
    }
   ],
   "source": [
    "def shorts_plus(left, right):\n",
    "    result = []\n",
    "    for (l, r) in zip(left, right):\n",
    "        result.append(l + r)\n",
    "    return result\n",
    "\n",
    "def shorts_minus(left, right):\n",
    "    result = []\n",
    "    for (l, r) in zip(left, right):\n",
    "        result.append(l - r)\n",
    "    return result\n",
    "\n",
    "print(shorts_plus([1, 2, 3], [10, 20, 30]))\n",
    "print(shorts_minus([1, 2, 3], [10, 20, 30]))"
   ]
  },
  {
   "cell_type": "code",
   "execution_count": 48,
   "metadata": {
    "collapsed": false
   },
   "outputs": [
    {
     "name": "stdout",
     "output_type": "stream",
     "text": [
      "[11, 22, 33]\n",
      "[-9, -18, -27]\n"
     ]
    }
   ],
   "source": [
    "def plus(a, b):\n",
    "    return a + b\n",
    "\n",
    "def shorts(left, right, func):\n",
    "    result = []\n",
    "    for (l, r) in zip(left, right):\n",
    "        result.append(func(l, r))\n",
    "    return result\n",
    "\n",
    "print(shorts([1, 2, 3], [10, 20, 30], plus))\n",
    "\n",
    "def minus(a, b):\n",
    "    return a - b\n",
    "\n",
    "print(shorts([1, 2, 3], [10, 20, 30], minus))"
   ]
  },
  {
   "cell_type": "markdown",
   "metadata": {},
   "source": [
    "## Exercise\n",
    "\n",
    "Write one function that can be passed into `shorts` to calculate the product of corresponding list elements.\n",
    "\n",
    "`shorts([1, 2, 3], [10, 20, 30], something) => [10, 40, 90]`"
   ]
  },
  {
   "cell_type": "code",
   "execution_count": 49,
   "metadata": {
    "collapsed": false
   },
   "outputs": [
    {
     "name": "stdout",
     "output_type": "stream",
     "text": [
      "[10, 40, 90]\n"
     ]
    }
   ],
   "source": [
    "def product(a, b): return a * b\n",
    "print(shorts([1, 2, 3], [10, 20, 30], product))"
   ]
  },
  {
   "cell_type": "code",
   "execution_count": 51,
   "metadata": {
    "collapsed": false
   },
   "outputs": [
    {
     "name": "stdout",
     "output_type": "stream",
     "text": [
      "[26, 5, 101]\n"
     ]
    }
   ],
   "source": [
    "def positive(values):\n",
    "    return [v for v in values if v > 0]\n",
    "\n",
    "def squared(values):\n",
    "    return [v**2 for v in values]\n",
    "\n",
    "def add1(values):\n",
    "    return [v+1 for v in values]\n",
    "\n",
    "numbers = [5, -3, 2, 10, -1]\n",
    "print(add1(squared(positive(numbers))))"
   ]
  },
  {
   "cell_type": "code",
   "execution_count": 52,
   "metadata": {
    "collapsed": false
   },
   "outputs": [
    {
     "name": "stdout",
     "output_type": "stream",
     "text": [
      "[2, 10, 26]\n"
     ]
    }
   ],
   "source": [
    "def pipeline(values, functions):\n",
    "    result = values\n",
    "    for f in functions:\n",
    "        result = f(result)\n",
    "    return result\n",
    "\n",
    "final = pipeline([1, 3, 5, -10], [positive, squared, add1])\n",
    "print(final)"
   ]
  },
  {
   "cell_type": "code",
   "execution_count": 53,
   "metadata": {
    "collapsed": false
   },
   "outputs": [
    {
     "ename": "ZeroDivisionError",
     "evalue": "division by zero",
     "output_type": "error",
     "traceback": [
      "\u001b[0;31m---------------------------------------------------------------------------\u001b[0m",
      "\u001b[0;31mZeroDivisionError\u001b[0m                         Traceback (most recent call last)",
      "\u001b[0;32m<ipython-input-53-0f9f90da76dc>\u001b[0m in \u001b[0;36m<module>\u001b[0;34m()\u001b[0m\n\u001b[0;32m----> 1\u001b[0;31m \u001b[0mprint\u001b[0m\u001b[0;34m(\u001b[0m\u001b[0;36m1\u001b[0m\u001b[0;34m/\u001b[0m\u001b[0;36m0\u001b[0m\u001b[0;34m)\u001b[0m\u001b[0;34m\u001b[0m\u001b[0m\n\u001b[0m",
      "\u001b[0;31mZeroDivisionError\u001b[0m: division by zero"
     ]
    }
   ],
   "source": [
    "print(1/0)"
   ]
  },
  {
   "cell_type": "code",
   "execution_count": 54,
   "metadata": {
    "collapsed": false
   },
   "outputs": [
    {
     "ename": "IndexError",
     "evalue": "string index out of range",
     "output_type": "error",
     "traceback": [
      "\u001b[0;31m---------------------------------------------------------------------------\u001b[0m",
      "\u001b[0;31mIndexError\u001b[0m                                Traceback (most recent call last)",
      "\u001b[0;32m<ipython-input-54-5db4c7d67fa0>\u001b[0m in \u001b[0;36m<module>\u001b[0;34m()\u001b[0m\n\u001b[0;32m----> 1\u001b[0;31m \u001b[0;34m\"gold\"\u001b[0m\u001b[0;34m[\u001b[0m\u001b[0;36m1001\u001b[0m\u001b[0;34m]\u001b[0m\u001b[0;34m\u001b[0m\u001b[0m\n\u001b[0m",
      "\u001b[0;31mIndexError\u001b[0m: string index out of range"
     ]
    }
   ],
   "source": [
    "\"gold\"[1001]"
   ]
  },
  {
   "cell_type": "code",
   "execution_count": 55,
   "metadata": {
    "collapsed": false
   },
   "outputs": [
    {
     "ename": "TypeError",
     "evalue": "Can't convert 'int' object to str implicitly",
     "output_type": "error",
     "traceback": [
      "\u001b[0;31m---------------------------------------------------------------------------\u001b[0m",
      "\u001b[0;31mTypeError\u001b[0m                                 Traceback (most recent call last)",
      "\u001b[0;32m<ipython-input-55-1e2544042925>\u001b[0m in \u001b[0;36m<module>\u001b[0;34m()\u001b[0m\n\u001b[0;32m----> 1\u001b[0;31m \u001b[0;34m\"hello\"\u001b[0m \u001b[0;34m+\u001b[0m \u001b[0;36m3\u001b[0m\u001b[0;34m\u001b[0m\u001b[0m\n\u001b[0m",
      "\u001b[0;31mTypeError\u001b[0m: Can't convert 'int' object to str implicitly"
     ]
    }
   ],
   "source": [
    "\"hello\" + 3"
   ]
  },
  {
   "cell_type": "code",
   "execution_count": 58,
   "metadata": {
    "collapsed": false
   },
   "outputs": [
    {
     "name": "stdout",
     "output_type": "stream",
     "text": [
      "final value of results [0.2, 0.5, 1.0, 0.3333333333333333]\n"
     ]
    }
   ],
   "source": [
    "results = []\n",
    "for value in [5, 2, 0, 3]:\n",
    "    try:\n",
    "        x = 1/value\n",
    "        results.append(x)\n",
    "    except ZeroDivisionError:\n",
    "        x = 1.0\n",
    "        results.append(x)\n",
    "\n",
    "print(\"final value of results\", results)"
   ]
  },
  {
   "cell_type": "code",
   "execution_count": 61,
   "metadata": {
    "collapsed": false
   },
   "outputs": [
    {
     "name": "stdout",
     "output_type": "stream",
     "text": [
      "Unable to invert values\n"
     ]
    }
   ],
   "source": [
    "def invert(values):\n",
    "    result = []\n",
    "    for v in values:\n",
    "        result.append(1/v) # may raise ZeroDivisionError\n",
    "    return result\n",
    "\n",
    "try:\n",
    "    print(invert([1, 3, 0]))\n",
    "except Exception:\n",
    "    print(\"Unable to invert values\")"
   ]
  },
  {
   "cell_type": "markdown",
   "metadata": {},
   "source": [
    "## Throw Low, Catch High"
   ]
  },
  {
   "cell_type": "code",
   "execution_count": 64,
   "metadata": {
    "collapsed": false
   },
   "outputs": [
    {
     "name": "stdout",
     "output_type": "stream",
     "text": [
      "{'H': 1, 'Li': 3, 'Au': 79}\n",
      "1\n",
      "{'Ne': 10, 'H': 1, 'Li': 3, 'Au': 79}\n",
      "{'Ne': 10, 'H': 1, 'Li': 3, 'Au': 79, 'Se': 34}\n"
     ]
    }
   ],
   "source": [
    "elements = {\"H\": 1, \"Li\": 3, \"Au\": 79}\n",
    "print(elements)\n",
    "print(elements[\"H\"])\n",
    "elements[\"Ne\"] = 10\n",
    "print(elements)\n",
    "elements[\"Se\"] = 34\n",
    "print(elements)"
   ]
  },
  {
   "cell_type": "code",
   "execution_count": 66,
   "metadata": {
    "collapsed": false
   },
   "outputs": [
    {
     "name": "stdout",
     "output_type": "stream",
     "text": [
      "H 1\n",
      "U 92\n",
      "Ne 10\n",
      "Li 3\n",
      "Au 79\n",
      "Se 34\n"
     ]
    }
   ],
   "source": [
    "elements[\"U\"] = 92\n",
    "for key in elements:\n",
    "    print(key, elements[key])"
   ]
  },
  {
   "cell_type": "code",
   "execution_count": 67,
   "metadata": {
    "collapsed": false
   },
   "outputs": [
    {
     "data": {
      "text/plain": [
       "{'In': ['',\n",
       "  'print(\"Hello, LBL\")',\n",
       "  'print(\"Hello, LBL\")',\n",
       "  'print(1+2)',\n",
       "  'print(1+2)\\nprint(3*4**2)',\n",
       "  'print(5, type(5))',\n",
       "  'print(5.0, type(5.0))',\n",
       "  'print(\"gold\", type(\"gold\"))',\n",
       "  'cat = \"Fluffy\"',\n",
       "  'print(cat)',\n",
       "  'print(len(cat))',\n",
       "  'print(cat[0], cat[3])',\n",
       "  'print(cat)',\n",
       "  'cat[5] = \"e\"',\n",
       "  'for character in \"Fluffy\":\\n    print(character)',\n",
       "  'total = 0\\nfor number in [1, 3, 5, 7, 9]:\\n    total = total + number\\nprint(total)',\n",
       "  'total = 0\\nfor number in [1, 3, 5, 7, 9]:\\n    total -= number # same as total = total - number\\nprint(total)',\n",
       "  'numbers = [2, 3, 5, 7, 9]\\nprint(\"0:\", numbers[0])',\n",
       "  'numbers = [2, 3, 5, 7, 9]\\nprint(\"0:\", numbers[0])\\nprint(\"4:\", numbers[4])',\n",
       "  'print(numbers[5])',\n",
       "  'print(numbers[-1])',\n",
       "  'print(numbers, numbers[-1], numbers[-2])',\n",
       "  'numbers[len(numbers) - 1] == numbers[-1]',\n",
       "  'for number in [10, 20, 30]:\\n    if number > 15:\\n        print(\"big!\")\\n    else:\\n        print(\"small!\")',\n",
       "  'numbers = [5, -3, 2, 10, -7]\\ntotal = 0\\nfor n in numbers:\\n    if n >= 0:\\n        total += n\\nprint(total)',\n",
       "  'print(numbers)\\npositives = [n for n in numbers if n >= 0] # list comprehension\\nprint(positives)',\n",
       "  'print(numbers)\\npositives = [2 * n for n in numbers if n >= 0] # list comprehension\\nprint(positives)',\n",
       "  'print(numbers)\\npositives = sum([n for n in numbers if n >= 0])',\n",
       "  'print(numbers)\\npositives = sum([n for n in numbers if n >= 0])\\nprint(positives)',\n",
       "  'def greatest(x, y):\\n    if x > y:\\n        return x\\n    else:\\n        return y\\n\\nprint(greatest(3, 5))\\nprint(greatest(5, 3))',\n",
       "  'def scan_plus(values):\\n    result = []\\n    total = 0\\n    for v in values:\\n        total += v\\n        result.append(total)\\n    return result\\n\\nprint(scan_plus([])) # should be an empty list\\nprint(scan_plus([5])) # should be [5]\\nprint(scan_plus([5, 10])) # should be [5, 15]\\nprint(scan_plus([5, 10, -3])) # should be [5, 15, 12]',\n",
       "  'print(scan_plus([\"a\", \"b\", \"c\"])) # should be...?',\n",
       "  'print(\"hello\" + \"Fluffy\")',\n",
       "  'def scan_plus(values, start):\\n    result = []\\n    total = start\\n    for v in values:\\n        total += v\\n        result.append(total)\\n    return result\\n\\nprint(scan_plus([], 0)) # should be an empty list\\nprint(scan_plus([5], 0)) # should be [5]\\nprint(scan_plus([5, 10], 0)) # should be [5, 15]\\nprint(scan_plus([5, 10, -3], 0)) # should be [5, 15, 12]',\n",
       "  'print(scan_plus([\"a\", \"b\", \"c\"], \"\")) # should be...?',\n",
       "  'def scan_plus(values, start=0):\\n    result = []\\n    total = start\\n    for v in values:\\n        total += v\\n        result.append(total)\\n    return result\\n\\nprint(scan_plus([])) # should be an empty list\\nprint(scan_plus([5])) # should be [5]\\nprint(scan_plus([5, 10])) # should be [5, 15]\\nprint(scan_plus([5, 10, -3])) # should be [5, 15, 12]',\n",
       "  'print(scan_plus([\"a\", \"b\", \"c\"], \"\")) # should be...?',\n",
       "  'def scan_plus(values, start=0):\\n    \"\"\"\\n    Calculate running sum of values, using start as seed.\\n    \"\"\"\\n    result = []\\n    total = start\\n    for v in values:\\n        total += v\\n        result.append(total)\\n    return result\\n\\nprint(scan_plus([])) # should be an empty list\\nprint(scan_plus([5])) # should be [5]\\nprint(scan_plus([5, 10])) # should be [5, 15]\\nprint(scan_plus([5, 10, -3])) # should be [5, 15, 12]',\n",
       "  'help(scan_plus)',\n",
       "  'help(len)',\n",
       "  'help(sum)',\n",
       "  'for thing in zip(\"gold\", \"lead\"):\\n    print(thing)',\n",
       "  'for thing in zip(\"gold\", \"lead\", \"iron\"):\\n    print(thing)',\n",
       "  'for (left, middle, right) in zip(\"gold\", \"lead\", \"iron\"):\\n    print(left, middle, right)',\n",
       "  'for (left, right) in zip(\"gold\", \"lead\"):\\n    print(left, right)',\n",
       "  'def shorts(left, right):\\n    result = []\\n    for (l, r) in zip(left, right):\\n        result.append(l + r)\\n    return result\\n\\nprint(shorts([1, 2, 3], [10, 20, 30]))',\n",
       "  'def shorts_plus(left, right):\\n    result = []\\n    for (l, r) in zip(left, right):\\n        result.append(l + r)\\n    return result\\n\\ndef shorts_minus(left, right):\\n    result = []\\n    for (l, r) in zip(left, right):\\n        result.append(l - r)\\n    return result\\n\\nprint(shorts_plus([1, 2, 3], [10, 20, 30]))\\nprint(shorts_minus([1, 2, 3], [10, 20, 30]))',\n",
       "  'def plus(a, b):\\n    return a + b\\n\\ndef shorts(left, right, func):\\n    result = []\\n    for (l, r) in zip(left, right):\\n        result.append(func(l, r))\\n    return result\\n\\nprint(shorts([1, 2, 3], [10, 20, 30], plus))',\n",
       "  'def plus(a, b):\\n    return a + b\\n\\ndef shorts(left, right, func):\\n    result = []\\n    for (l, r) in zip(left, right):\\n        result.append(func(l, r))\\n    return result\\n\\nprint(shorts([1, 2, 3], [10, 20, 30], plus))\\n\\ndef minus(a, b):\\n    return a - b\\n\\nprint(shorts([1, 2, 3], [10, 20, 30], minus))',\n",
       "  'def product(a, b): return a * b\\nprint(shorts([1, 2, 3], [10, 20, 30], product))',\n",
       "  'def positive(values):\\n    return [v in values if v > 0]\\n\\ndef squared(values):\\n    return [v**2 in values]\\n\\ndef add1(values):\\n    return [v+1 for v in values]\\n\\nnumbers = [5, -3, 2, 10, -1]\\nprint(add1(squared(positive(numbers))))',\n",
       "  'def positive(values):\\n    return [v for v in values if v > 0]\\n\\ndef squared(values):\\n    return [v**2 for v in values]\\n\\ndef add1(values):\\n    return [v+1 for v in values]\\n\\nnumbers = [5, -3, 2, 10, -1]\\nprint(add1(squared(positive(numbers))))',\n",
       "  'def pipeline(values, functions):\\n    result = values\\n    for f in functions:\\n        result = f(result)\\n    return result\\n\\nfinal = pipeline([1, 3, 5, -10], [positive, squared, add1])\\nprint(final)',\n",
       "  'print(1/0)',\n",
       "  '\"gold\"[1001]',\n",
       "  '\"hello\" + 3',\n",
       "  'try:\\n    x = 1/0\\n    print(\"We really should not be here\")\\nexcept ZeroDivisionError:\\n    print(\"Here, we can assign a default\")\\n    x = 1.0\\n\\nprint(\"final value of x\", x)',\n",
       "  'results = []\\nfor value in [5, 2, 0, 3]:\\n    try:\\n        x = 1/value\\n        results.append(x)\\n        print(\"We really should not be here\")\\n    except ZeroDivisionError:\\n        print(\"Here, we can assign a default\")\\n        x = 1.0\\n        results.append(x)\\n\\nprint(\"final value of results\", results)',\n",
       "  'results = []\\nfor value in [5, 2, 0, 3]:\\n    try:\\n        x = 1/value\\n        results.append(x)\\n    except ZeroDivisionError:\\n        x = 1.0\\n        results.append(x)\\n\\nprint(\"final value of results\", results)',\n",
       "  'def invert(values):\\n    result = []\\n    for v in values:\\n        result.append(1/v)\\n    return result\\n\\nprint(invert([1, 3, 0]))',\n",
       "  'def invert(values):\\n    result = []\\n    for v in values:\\n        result.append(1/v)\\n    return result\\n\\ntry:\\n    print(invert([1, 3, 0]))\\nexcept ZeroDivisionError:\\n    print(\"Unable to invert values\")',\n",
       "  'def invert(values):\\n    result = []\\n    for v in values:\\n        result.append(1/v) # may raise ZeroDivisionError\\n    return result\\n\\ntry:\\n    print(invert([1, 3, 0]))\\nexcept Exception:\\n    print(\"Unable to invert values\")',\n",
       "  'elements = {\"H\": 1, \"Li\": 3, \"Au\": 79}\\nprint(elements[\"H\"])\\nelements[\"Ne\"] = 10\\nprint(elements)',\n",
       "  'elements = {\"H\": 1, \"Li\": 3, \"Au\": 79}\\nprint(elements)\\nprint(elements[\"H\"])\\nelements[\"Ne\"] = 10\\nprint(elements)',\n",
       "  'elements = {\"H\": 1, \"Li\": 3, \"Au\": 79}\\nprint(elements)\\nprint(elements[\"H\"])\\nelements[\"Ne\"] = 10\\nprint(elements)\\nelements[\"Se\"] = 34\\nprint(elements)',\n",
       "  'for key in elements:\\n    print(key, elements[key])',\n",
       "  'elements[\"U\"] = 92\\nfor key in elements:\\n    print(key, elements[key])',\n",
       "  'globals()'],\n",
       " 'Out': {22: True},\n",
       " '_': True,\n",
       " '_22': True,\n",
       " '__': '',\n",
       " '___': '',\n",
       " '__builtin__': <module 'builtins' (built-in)>,\n",
       " '__builtins__': <module 'builtins' (built-in)>,\n",
       " '__doc__': 'Automatically created module for IPython interactive environment',\n",
       " '__loader__': None,\n",
       " '__name__': '__main__',\n",
       " '__package__': None,\n",
       " '__spec__': None,\n",
       " '_dh': ['/Users/gvwilson/lbl'],\n",
       " '_i': 'elements[\"U\"] = 92\\nfor key in elements:\\n    print(key, elements[key])',\n",
       " '_i1': 'print(\"Hello, LBL\")',\n",
       " '_i10': 'print(len(cat))',\n",
       " '_i11': 'print(cat[0], cat[3])',\n",
       " '_i12': 'print(cat)',\n",
       " '_i13': 'cat[5] = \"e\"',\n",
       " '_i14': 'for character in \"Fluffy\":\\n    print(character)',\n",
       " '_i15': 'total = 0\\nfor number in [1, 3, 5, 7, 9]:\\n    total = total + number\\nprint(total)',\n",
       " '_i16': 'total = 0\\nfor number in [1, 3, 5, 7, 9]:\\n    total -= number # same as total = total - number\\nprint(total)',\n",
       " '_i17': 'numbers = [2, 3, 5, 7, 9]\\nprint(\"0:\", numbers[0])',\n",
       " '_i18': 'numbers = [2, 3, 5, 7, 9]\\nprint(\"0:\", numbers[0])\\nprint(\"4:\", numbers[4])',\n",
       " '_i19': 'print(numbers[5])',\n",
       " '_i2': 'print(\"Hello, LBL\")',\n",
       " '_i20': 'print(numbers[-1])',\n",
       " '_i21': 'print(numbers, numbers[-1], numbers[-2])',\n",
       " '_i22': 'numbers[len(numbers) - 1] == numbers[-1]',\n",
       " '_i23': 'for number in [10, 20, 30]:\\n    if number > 15:\\n        print(\"big!\")\\n    else:\\n        print(\"small!\")',\n",
       " '_i24': 'numbers = [5, -3, 2, 10, -7]\\ntotal = 0\\nfor n in numbers:\\n    if n >= 0:\\n        total += n\\nprint(total)',\n",
       " '_i25': 'print(numbers)\\npositives = [n for n in numbers if n >= 0] # list comprehension\\nprint(positives)',\n",
       " '_i26': 'print(numbers)\\npositives = [2 * n for n in numbers if n >= 0] # list comprehension\\nprint(positives)',\n",
       " '_i27': 'print(numbers)\\npositives = sum([n for n in numbers if n >= 0])',\n",
       " '_i28': 'print(numbers)\\npositives = sum([n for n in numbers if n >= 0])\\nprint(positives)',\n",
       " '_i29': 'def greatest(x, y):\\n    if x > y:\\n        return x\\n    else:\\n        return y\\n\\nprint(greatest(3, 5))\\nprint(greatest(5, 3))',\n",
       " '_i3': 'print(1+2)',\n",
       " '_i30': 'def scan_plus(values):\\n    result = []\\n    total = 0\\n    for v in values:\\n        total += v\\n        result.append(total)\\n    return result\\n\\nprint(scan_plus([])) # should be an empty list\\nprint(scan_plus([5])) # should be [5]\\nprint(scan_plus([5, 10])) # should be [5, 15]\\nprint(scan_plus([5, 10, -3])) # should be [5, 15, 12]',\n",
       " '_i31': 'print(scan_plus([\"a\", \"b\", \"c\"])) # should be...?',\n",
       " '_i32': 'print(\"hello\" + \"Fluffy\")',\n",
       " '_i33': 'def scan_plus(values, start):\\n    result = []\\n    total = start\\n    for v in values:\\n        total += v\\n        result.append(total)\\n    return result\\n\\nprint(scan_plus([], 0)) # should be an empty list\\nprint(scan_plus([5], 0)) # should be [5]\\nprint(scan_plus([5, 10], 0)) # should be [5, 15]\\nprint(scan_plus([5, 10, -3], 0)) # should be [5, 15, 12]',\n",
       " '_i34': 'print(scan_plus([\"a\", \"b\", \"c\"], \"\")) # should be...?',\n",
       " '_i35': 'def scan_plus(values, start=0):\\n    result = []\\n    total = start\\n    for v in values:\\n        total += v\\n        result.append(total)\\n    return result\\n\\nprint(scan_plus([])) # should be an empty list\\nprint(scan_plus([5])) # should be [5]\\nprint(scan_plus([5, 10])) # should be [5, 15]\\nprint(scan_plus([5, 10, -3])) # should be [5, 15, 12]',\n",
       " '_i36': 'print(scan_plus([\"a\", \"b\", \"c\"], \"\")) # should be...?',\n",
       " '_i37': 'def scan_plus(values, start=0):\\n    \"\"\"\\n    Calculate running sum of values, using start as seed.\\n    \"\"\"\\n    result = []\\n    total = start\\n    for v in values:\\n        total += v\\n        result.append(total)\\n    return result\\n\\nprint(scan_plus([])) # should be an empty list\\nprint(scan_plus([5])) # should be [5]\\nprint(scan_plus([5, 10])) # should be [5, 15]\\nprint(scan_plus([5, 10, -3])) # should be [5, 15, 12]',\n",
       " '_i38': 'help(scan_plus)',\n",
       " '_i39': 'help(len)',\n",
       " '_i4': 'print(1+2)\\nprint(3*4**2)',\n",
       " '_i40': 'help(sum)',\n",
       " '_i41': 'for thing in zip(\"gold\", \"lead\"):\\n    print(thing)',\n",
       " '_i42': 'for thing in zip(\"gold\", \"lead\", \"iron\"):\\n    print(thing)',\n",
       " '_i43': 'for (left, middle, right) in zip(\"gold\", \"lead\", \"iron\"):\\n    print(left, middle, right)',\n",
       " '_i44': 'for (left, right) in zip(\"gold\", \"lead\"):\\n    print(left, right)',\n",
       " '_i45': 'def shorts(left, right):\\n    result = []\\n    for (l, r) in zip(left, right):\\n        result.append(l + r)\\n    return result\\n\\nprint(shorts([1, 2, 3], [10, 20, 30]))',\n",
       " '_i46': 'def shorts_plus(left, right):\\n    result = []\\n    for (l, r) in zip(left, right):\\n        result.append(l + r)\\n    return result\\n\\ndef shorts_minus(left, right):\\n    result = []\\n    for (l, r) in zip(left, right):\\n        result.append(l - r)\\n    return result\\n\\nprint(shorts_plus([1, 2, 3], [10, 20, 30]))\\nprint(shorts_minus([1, 2, 3], [10, 20, 30]))',\n",
       " '_i47': 'def plus(a, b):\\n    return a + b\\n\\ndef shorts(left, right, func):\\n    result = []\\n    for (l, r) in zip(left, right):\\n        result.append(func(l, r))\\n    return result\\n\\nprint(shorts([1, 2, 3], [10, 20, 30], plus))',\n",
       " '_i48': 'def plus(a, b):\\n    return a + b\\n\\ndef shorts(left, right, func):\\n    result = []\\n    for (l, r) in zip(left, right):\\n        result.append(func(l, r))\\n    return result\\n\\nprint(shorts([1, 2, 3], [10, 20, 30], plus))\\n\\ndef minus(a, b):\\n    return a - b\\n\\nprint(shorts([1, 2, 3], [10, 20, 30], minus))',\n",
       " '_i49': 'def product(a, b): return a * b\\nprint(shorts([1, 2, 3], [10, 20, 30], product))',\n",
       " '_i5': 'print(5, type(5))',\n",
       " '_i50': 'def positive(values):\\n    return [v in values if v > 0]\\n\\ndef squared(values):\\n    return [v**2 in values]\\n\\ndef add1(values):\\n    return [v+1 for v in values]\\n\\nnumbers = [5, -3, 2, 10, -1]\\nprint(add1(squared(positive(numbers))))',\n",
       " '_i51': 'def positive(values):\\n    return [v for v in values if v > 0]\\n\\ndef squared(values):\\n    return [v**2 for v in values]\\n\\ndef add1(values):\\n    return [v+1 for v in values]\\n\\nnumbers = [5, -3, 2, 10, -1]\\nprint(add1(squared(positive(numbers))))',\n",
       " '_i52': 'def pipeline(values, functions):\\n    result = values\\n    for f in functions:\\n        result = f(result)\\n    return result\\n\\nfinal = pipeline([1, 3, 5, -10], [positive, squared, add1])\\nprint(final)',\n",
       " '_i53': 'print(1/0)',\n",
       " '_i54': '\"gold\"[1001]',\n",
       " '_i55': '\"hello\" + 3',\n",
       " '_i56': 'try:\\n    x = 1/0\\n    print(\"We really should not be here\")\\nexcept ZeroDivisionError:\\n    print(\"Here, we can assign a default\")\\n    x = 1.0\\n\\nprint(\"final value of x\", x)',\n",
       " '_i57': 'results = []\\nfor value in [5, 2, 0, 3]:\\n    try:\\n        x = 1/value\\n        results.append(x)\\n        print(\"We really should not be here\")\\n    except ZeroDivisionError:\\n        print(\"Here, we can assign a default\")\\n        x = 1.0\\n        results.append(x)\\n\\nprint(\"final value of results\", results)',\n",
       " '_i58': 'results = []\\nfor value in [5, 2, 0, 3]:\\n    try:\\n        x = 1/value\\n        results.append(x)\\n    except ZeroDivisionError:\\n        x = 1.0\\n        results.append(x)\\n\\nprint(\"final value of results\", results)',\n",
       " '_i59': 'def invert(values):\\n    result = []\\n    for v in values:\\n        result.append(1/v)\\n    return result\\n\\nprint(invert([1, 3, 0]))',\n",
       " '_i6': 'print(5.0, type(5.0))',\n",
       " '_i60': 'def invert(values):\\n    result = []\\n    for v in values:\\n        result.append(1/v)\\n    return result\\n\\ntry:\\n    print(invert([1, 3, 0]))\\nexcept ZeroDivisionError:\\n    print(\"Unable to invert values\")',\n",
       " '_i61': 'def invert(values):\\n    result = []\\n    for v in values:\\n        result.append(1/v) # may raise ZeroDivisionError\\n    return result\\n\\ntry:\\n    print(invert([1, 3, 0]))\\nexcept Exception:\\n    print(\"Unable to invert values\")',\n",
       " '_i62': 'elements = {\"H\": 1, \"Li\": 3, \"Au\": 79}\\nprint(elements[\"H\"])\\nelements[\"Ne\"] = 10\\nprint(elements)',\n",
       " '_i63': 'elements = {\"H\": 1, \"Li\": 3, \"Au\": 79}\\nprint(elements)\\nprint(elements[\"H\"])\\nelements[\"Ne\"] = 10\\nprint(elements)',\n",
       " '_i64': 'elements = {\"H\": 1, \"Li\": 3, \"Au\": 79}\\nprint(elements)\\nprint(elements[\"H\"])\\nelements[\"Ne\"] = 10\\nprint(elements)\\nelements[\"Se\"] = 34\\nprint(elements)',\n",
       " '_i65': 'for key in elements:\\n    print(key, elements[key])',\n",
       " '_i66': 'elements[\"U\"] = 92\\nfor key in elements:\\n    print(key, elements[key])',\n",
       " '_i67': 'globals()',\n",
       " '_i7': 'print(\"gold\", type(\"gold\"))',\n",
       " '_i8': 'cat = \"Fluffy\"',\n",
       " '_i9': 'print(cat)',\n",
       " '_ih': ['',\n",
       "  'print(\"Hello, LBL\")',\n",
       "  'print(\"Hello, LBL\")',\n",
       "  'print(1+2)',\n",
       "  'print(1+2)\\nprint(3*4**2)',\n",
       "  'print(5, type(5))',\n",
       "  'print(5.0, type(5.0))',\n",
       "  'print(\"gold\", type(\"gold\"))',\n",
       "  'cat = \"Fluffy\"',\n",
       "  'print(cat)',\n",
       "  'print(len(cat))',\n",
       "  'print(cat[0], cat[3])',\n",
       "  'print(cat)',\n",
       "  'cat[5] = \"e\"',\n",
       "  'for character in \"Fluffy\":\\n    print(character)',\n",
       "  'total = 0\\nfor number in [1, 3, 5, 7, 9]:\\n    total = total + number\\nprint(total)',\n",
       "  'total = 0\\nfor number in [1, 3, 5, 7, 9]:\\n    total -= number # same as total = total - number\\nprint(total)',\n",
       "  'numbers = [2, 3, 5, 7, 9]\\nprint(\"0:\", numbers[0])',\n",
       "  'numbers = [2, 3, 5, 7, 9]\\nprint(\"0:\", numbers[0])\\nprint(\"4:\", numbers[4])',\n",
       "  'print(numbers[5])',\n",
       "  'print(numbers[-1])',\n",
       "  'print(numbers, numbers[-1], numbers[-2])',\n",
       "  'numbers[len(numbers) - 1] == numbers[-1]',\n",
       "  'for number in [10, 20, 30]:\\n    if number > 15:\\n        print(\"big!\")\\n    else:\\n        print(\"small!\")',\n",
       "  'numbers = [5, -3, 2, 10, -7]\\ntotal = 0\\nfor n in numbers:\\n    if n >= 0:\\n        total += n\\nprint(total)',\n",
       "  'print(numbers)\\npositives = [n for n in numbers if n >= 0] # list comprehension\\nprint(positives)',\n",
       "  'print(numbers)\\npositives = [2 * n for n in numbers if n >= 0] # list comprehension\\nprint(positives)',\n",
       "  'print(numbers)\\npositives = sum([n for n in numbers if n >= 0])',\n",
       "  'print(numbers)\\npositives = sum([n for n in numbers if n >= 0])\\nprint(positives)',\n",
       "  'def greatest(x, y):\\n    if x > y:\\n        return x\\n    else:\\n        return y\\n\\nprint(greatest(3, 5))\\nprint(greatest(5, 3))',\n",
       "  'def scan_plus(values):\\n    result = []\\n    total = 0\\n    for v in values:\\n        total += v\\n        result.append(total)\\n    return result\\n\\nprint(scan_plus([])) # should be an empty list\\nprint(scan_plus([5])) # should be [5]\\nprint(scan_plus([5, 10])) # should be [5, 15]\\nprint(scan_plus([5, 10, -3])) # should be [5, 15, 12]',\n",
       "  'print(scan_plus([\"a\", \"b\", \"c\"])) # should be...?',\n",
       "  'print(\"hello\" + \"Fluffy\")',\n",
       "  'def scan_plus(values, start):\\n    result = []\\n    total = start\\n    for v in values:\\n        total += v\\n        result.append(total)\\n    return result\\n\\nprint(scan_plus([], 0)) # should be an empty list\\nprint(scan_plus([5], 0)) # should be [5]\\nprint(scan_plus([5, 10], 0)) # should be [5, 15]\\nprint(scan_plus([5, 10, -3], 0)) # should be [5, 15, 12]',\n",
       "  'print(scan_plus([\"a\", \"b\", \"c\"], \"\")) # should be...?',\n",
       "  'def scan_plus(values, start=0):\\n    result = []\\n    total = start\\n    for v in values:\\n        total += v\\n        result.append(total)\\n    return result\\n\\nprint(scan_plus([])) # should be an empty list\\nprint(scan_plus([5])) # should be [5]\\nprint(scan_plus([5, 10])) # should be [5, 15]\\nprint(scan_plus([5, 10, -3])) # should be [5, 15, 12]',\n",
       "  'print(scan_plus([\"a\", \"b\", \"c\"], \"\")) # should be...?',\n",
       "  'def scan_plus(values, start=0):\\n    \"\"\"\\n    Calculate running sum of values, using start as seed.\\n    \"\"\"\\n    result = []\\n    total = start\\n    for v in values:\\n        total += v\\n        result.append(total)\\n    return result\\n\\nprint(scan_plus([])) # should be an empty list\\nprint(scan_plus([5])) # should be [5]\\nprint(scan_plus([5, 10])) # should be [5, 15]\\nprint(scan_plus([5, 10, -3])) # should be [5, 15, 12]',\n",
       "  'help(scan_plus)',\n",
       "  'help(len)',\n",
       "  'help(sum)',\n",
       "  'for thing in zip(\"gold\", \"lead\"):\\n    print(thing)',\n",
       "  'for thing in zip(\"gold\", \"lead\", \"iron\"):\\n    print(thing)',\n",
       "  'for (left, middle, right) in zip(\"gold\", \"lead\", \"iron\"):\\n    print(left, middle, right)',\n",
       "  'for (left, right) in zip(\"gold\", \"lead\"):\\n    print(left, right)',\n",
       "  'def shorts(left, right):\\n    result = []\\n    for (l, r) in zip(left, right):\\n        result.append(l + r)\\n    return result\\n\\nprint(shorts([1, 2, 3], [10, 20, 30]))',\n",
       "  'def shorts_plus(left, right):\\n    result = []\\n    for (l, r) in zip(left, right):\\n        result.append(l + r)\\n    return result\\n\\ndef shorts_minus(left, right):\\n    result = []\\n    for (l, r) in zip(left, right):\\n        result.append(l - r)\\n    return result\\n\\nprint(shorts_plus([1, 2, 3], [10, 20, 30]))\\nprint(shorts_minus([1, 2, 3], [10, 20, 30]))',\n",
       "  'def plus(a, b):\\n    return a + b\\n\\ndef shorts(left, right, func):\\n    result = []\\n    for (l, r) in zip(left, right):\\n        result.append(func(l, r))\\n    return result\\n\\nprint(shorts([1, 2, 3], [10, 20, 30], plus))',\n",
       "  'def plus(a, b):\\n    return a + b\\n\\ndef shorts(left, right, func):\\n    result = []\\n    for (l, r) in zip(left, right):\\n        result.append(func(l, r))\\n    return result\\n\\nprint(shorts([1, 2, 3], [10, 20, 30], plus))\\n\\ndef minus(a, b):\\n    return a - b\\n\\nprint(shorts([1, 2, 3], [10, 20, 30], minus))',\n",
       "  'def product(a, b): return a * b\\nprint(shorts([1, 2, 3], [10, 20, 30], product))',\n",
       "  'def positive(values):\\n    return [v in values if v > 0]\\n\\ndef squared(values):\\n    return [v**2 in values]\\n\\ndef add1(values):\\n    return [v+1 for v in values]\\n\\nnumbers = [5, -3, 2, 10, -1]\\nprint(add1(squared(positive(numbers))))',\n",
       "  'def positive(values):\\n    return [v for v in values if v > 0]\\n\\ndef squared(values):\\n    return [v**2 for v in values]\\n\\ndef add1(values):\\n    return [v+1 for v in values]\\n\\nnumbers = [5, -3, 2, 10, -1]\\nprint(add1(squared(positive(numbers))))',\n",
       "  'def pipeline(values, functions):\\n    result = values\\n    for f in functions:\\n        result = f(result)\\n    return result\\n\\nfinal = pipeline([1, 3, 5, -10], [positive, squared, add1])\\nprint(final)',\n",
       "  'print(1/0)',\n",
       "  '\"gold\"[1001]',\n",
       "  '\"hello\" + 3',\n",
       "  'try:\\n    x = 1/0\\n    print(\"We really should not be here\")\\nexcept ZeroDivisionError:\\n    print(\"Here, we can assign a default\")\\n    x = 1.0\\n\\nprint(\"final value of x\", x)',\n",
       "  'results = []\\nfor value in [5, 2, 0, 3]:\\n    try:\\n        x = 1/value\\n        results.append(x)\\n        print(\"We really should not be here\")\\n    except ZeroDivisionError:\\n        print(\"Here, we can assign a default\")\\n        x = 1.0\\n        results.append(x)\\n\\nprint(\"final value of results\", results)',\n",
       "  'results = []\\nfor value in [5, 2, 0, 3]:\\n    try:\\n        x = 1/value\\n        results.append(x)\\n    except ZeroDivisionError:\\n        x = 1.0\\n        results.append(x)\\n\\nprint(\"final value of results\", results)',\n",
       "  'def invert(values):\\n    result = []\\n    for v in values:\\n        result.append(1/v)\\n    return result\\n\\nprint(invert([1, 3, 0]))',\n",
       "  'def invert(values):\\n    result = []\\n    for v in values:\\n        result.append(1/v)\\n    return result\\n\\ntry:\\n    print(invert([1, 3, 0]))\\nexcept ZeroDivisionError:\\n    print(\"Unable to invert values\")',\n",
       "  'def invert(values):\\n    result = []\\n    for v in values:\\n        result.append(1/v) # may raise ZeroDivisionError\\n    return result\\n\\ntry:\\n    print(invert([1, 3, 0]))\\nexcept Exception:\\n    print(\"Unable to invert values\")',\n",
       "  'elements = {\"H\": 1, \"Li\": 3, \"Au\": 79}\\nprint(elements[\"H\"])\\nelements[\"Ne\"] = 10\\nprint(elements)',\n",
       "  'elements = {\"H\": 1, \"Li\": 3, \"Au\": 79}\\nprint(elements)\\nprint(elements[\"H\"])\\nelements[\"Ne\"] = 10\\nprint(elements)',\n",
       "  'elements = {\"H\": 1, \"Li\": 3, \"Au\": 79}\\nprint(elements)\\nprint(elements[\"H\"])\\nelements[\"Ne\"] = 10\\nprint(elements)\\nelements[\"Se\"] = 34\\nprint(elements)',\n",
       "  'for key in elements:\\n    print(key, elements[key])',\n",
       "  'elements[\"U\"] = 92\\nfor key in elements:\\n    print(key, elements[key])',\n",
       "  'globals()'],\n",
       " '_ii': 'for key in elements:\\n    print(key, elements[key])',\n",
       " '_iii': 'elements = {\"H\": 1, \"Li\": 3, \"Au\": 79}\\nprint(elements)\\nprint(elements[\"H\"])\\nelements[\"Ne\"] = 10\\nprint(elements)\\nelements[\"Se\"] = 34\\nprint(elements)',\n",
       " '_oh': {22: True},\n",
       " '_sh': <module 'IPython.core.shadowns' from '/Users/gvwilson/anaconda3/lib/python3.5/site-packages/IPython/core/shadowns.py'>,\n",
       " 'add1': <function __main__.add1>,\n",
       " 'cat': 'Fluffy',\n",
       " 'character': 'y',\n",
       " 'elements': {'Au': 79, 'H': 1, 'Li': 3, 'Ne': 10, 'Se': 34, 'U': 92},\n",
       " 'exit': <IPython.core.autocall.ZMQExitAutocall at 0x103446c88>,\n",
       " 'final': [2, 10, 26],\n",
       " 'get_ipython': <bound method InteractiveShell.get_ipython of <ipykernel.zmqshell.ZMQInteractiveShell object at 0x103a2e550>>,\n",
       " 'greatest': <function __main__.greatest>,\n",
       " 'invert': <function __main__.invert>,\n",
       " 'key': 'Se',\n",
       " 'left': 'd',\n",
       " 'middle': 'd',\n",
       " 'minus': <function __main__.minus>,\n",
       " 'n': -7,\n",
       " 'number': 30,\n",
       " 'numbers': [5, -3, 2, 10, -1],\n",
       " 'pipeline': <function __main__.pipeline>,\n",
       " 'plus': <function __main__.plus>,\n",
       " 'positive': <function __main__.positive>,\n",
       " 'positives': 17,\n",
       " 'product': <function __main__.product>,\n",
       " 'quit': <IPython.core.autocall.ZMQExitAutocall at 0x103446c88>,\n",
       " 'results': [0.2, 0.5, 1.0, 0.3333333333333333],\n",
       " 'right': 'd',\n",
       " 'scan_plus': <function __main__.scan_plus>,\n",
       " 'shorts': <function __main__.shorts>,\n",
       " 'shorts_minus': <function __main__.shorts_minus>,\n",
       " 'shorts_plus': <function __main__.shorts_plus>,\n",
       " 'squared': <function __main__.squared>,\n",
       " 'thing': ('d', 'd', 'n'),\n",
       " 'total': 17,\n",
       " 'value': 3,\n",
       " 'x': 0.3333333333333333}"
      ]
     },
     "execution_count": 67,
     "metadata": {},
     "output_type": "execute_result"
    }
   ],
   "source": [
    "globals()"
   ]
  },
  {
   "cell_type": "code",
   "execution_count": 68,
   "metadata": {
    "collapsed": false
   },
   "outputs": [
    {
     "data": {
      "text/plain": [
       "0.3333333333333333"
      ]
     },
     "execution_count": 68,
     "metadata": {},
     "output_type": "execute_result"
    }
   ],
   "source": [
    "globals()[\"x\"]"
   ]
  },
  {
   "cell_type": "code",
   "execution_count": 69,
   "metadata": {
    "collapsed": false
   },
   "outputs": [
    {
     "data": {
      "text/plain": [
       "0.3333333333333333"
      ]
     },
     "execution_count": 69,
     "metadata": {},
     "output_type": "execute_result"
    }
   ],
   "source": [
    "x"
   ]
  },
  {
   "cell_type": "code",
   "execution_count": 70,
   "metadata": {
    "collapsed": false
   },
   "outputs": [
    {
     "name": "stdout",
     "output_type": "stream",
     "text": [
      "final\n",
      "value\n",
      "_i18\n",
      "_22\n",
      "_i1\n",
      "_i36\n",
      "_i4\n",
      "n\n",
      "positives\n",
      "__builtin__\n",
      "_i\n",
      "_i59\n",
      "plus\n",
      "left\n",
      "_i10\n",
      "_i32\n",
      "__name__\n",
      "_\n",
      "minus\n",
      "_i42\n",
      "_i37\n",
      "_i15\n",
      "_i6\n",
      "greatest\n",
      "_i61\n",
      "__doc__\n",
      "_sh\n",
      "_i12\n",
      "_i67\n",
      "_i24\n",
      "squared\n",
      "_i60\n",
      "numbers\n",
      "_68\n",
      "_i8\n",
      "_69\n",
      "___\n",
      "_i28\n",
      "__loader__\n",
      "_i43\n",
      "_i29\n",
      "invert\n",
      "_i14\n",
      "__\n",
      "_i54\n",
      "_i35\n",
      "_i34\n",
      "_i46\n",
      "_i11\n",
      "_i22\n",
      "x\n",
      "_iii\n",
      "_i52\n",
      "scan_plus\n",
      "_i17\n",
      "quit\n",
      "_i38\n",
      "_i66\n",
      "pipeline\n",
      "_i56\n",
      "shorts_minus\n",
      "_i69\n",
      "_dh\n",
      "exit\n",
      "_i5\n",
      "_i9\n",
      "character\n",
      "_ii\n",
      "In\n",
      "_i19\n",
      "_i48\n",
      "__spec__\n",
      "_i21\n",
      "total\n",
      "_i26\n",
      "_i47\n",
      "_i57\n",
      "_67\n",
      "_ih\n",
      "shorts_plus\n",
      "_i7\n",
      "_i3\n",
      "_i63\n",
      "_i70\n",
      "elements\n",
      "_i33\n",
      "thing\n",
      "__builtins__\n",
      "__package__\n",
      "positive\n",
      "_i2\n",
      "_i20\n",
      "_i44\n",
      "_i51\n",
      "_i45\n",
      "_i50\n",
      "_i58\n",
      "_i62\n",
      "product\n",
      "_i39\n",
      "_i41\n",
      "_i55\n",
      "get_ipython\n",
      "_i23\n",
      "_i16\n",
      "_oh\n",
      "_i27\n",
      "_i49\n",
      "results\n",
      "_i68\n",
      "cat\n",
      "_i53\n",
      "shorts\n",
      "_i13\n",
      "_i64\n",
      "_i31\n",
      "_i25\n",
      "key\n",
      "add1\n",
      "number\n",
      "middle\n",
      "_i65\n",
      "_i30\n",
      "Out\n",
      "right\n",
      "_i40\n"
     ]
    }
   ],
   "source": [
    "for thing in globals():\n",
    "    print(thing)"
   ]
  },
  {
   "cell_type": "code",
   "execution_count": 74,
   "metadata": {
    "collapsed": false
   },
   "outputs": [
    {
     "name": "stdout",
     "output_type": "stream",
     "text": [
      "minus\n",
      "squared\n",
      "scan_plus\n",
      "quit\n",
      "shorts_minus\n",
      "greatest\n",
      "exit\n",
      "invert\n",
      "shorts\n",
      "add1\n",
      "get_ipython\n",
      "positive\n",
      "pipeline\n",
      "plus\n",
      "shorts_plus\n",
      "product\n"
     ]
    }
   ],
   "source": [
    "everything = globals().copy()\n",
    "for name in everything:\n",
    "    if callable(everything[name]):\n",
    "        print(name)"
   ]
  },
  {
   "cell_type": "code",
   "execution_count": 75,
   "metadata": {
    "collapsed": false
   },
   "outputs": [
    {
     "name": "stdout",
     "output_type": "stream",
     "text": [
      "test_one True\n",
      "test_minus_one False\n"
     ]
    }
   ],
   "source": [
    "def test_one():\n",
    "    return 1 > 0\n",
    "\n",
    "def test_minus_one():\n",
    "    return -1 > 0\n",
    "\n",
    "print(\"test_one\", test_one())\n",
    "print(\"test_minus_one\", test_minus_one())"
   ]
  },
  {
   "cell_type": "code",
   "execution_count": 78,
   "metadata": {
    "collapsed": false
   },
   "outputs": [
    {
     "name": "stdout",
     "output_type": "stream",
     "text": [
      "[<function test_minus_one at 0x10541c9d8>, <function test_one at 0x10541c950>]\n"
     ]
    }
   ],
   "source": [
    "def find_tests():\n",
    "    results = []\n",
    "    everything = globals().copy()\n",
    "    for name in everything:\n",
    "        if name.startswith(\"test_\") and callable(everything[name]):\n",
    "            results.append(everything[name])\n",
    "    return results\n",
    "\n",
    "print(find_tests())"
   ]
  },
  {
   "cell_type": "code",
   "execution_count": 79,
   "metadata": {
    "collapsed": false
   },
   "outputs": [
    {
     "name": "stdout",
     "output_type": "stream",
     "text": [
      "[<function test_minus_one at 0x10541c9d8>, <function test_one at 0x10541c950>, <function test_really_large at 0x105425598>]\n"
     ]
    }
   ],
   "source": [
    "def test_really_large():\n",
    "    return 1000000 > 0\n",
    "\n",
    "print(find_tests())"
   ]
  },
  {
   "cell_type": "code",
   "execution_count": 80,
   "metadata": {
    "collapsed": false
   },
   "outputs": [
    {
     "name": "stdout",
     "output_type": "stream",
     "text": [
      "False\n",
      "True\n",
      "True\n"
     ]
    }
   ],
   "source": [
    "all_tests = find_tests()\n",
    "for f in all_tests:\n",
    "    print(f())"
   ]
  },
  {
   "cell_type": "code",
   "execution_count": 81,
   "metadata": {
    "collapsed": false
   },
   "outputs": [
    {
     "name": "stdout",
     "output_type": "stream",
     "text": [
      "Number run: 3\n",
      "Number passed: 2\n"
     ]
    }
   ],
   "source": [
    "def run_all_tests():\n",
    "    num_tests = 0\n",
    "    num_success = 0\n",
    "    everything = globals().copy()\n",
    "    for name in everything:\n",
    "        if name.startswith(\"test_\") and callable(everything[name]):\n",
    "            num_tests += 1\n",
    "            result = everything[name]()\n",
    "            if result:\n",
    "                num_success += 1\n",
    "    return num_tests, num_success\n",
    "\n",
    "num_run, num_passed = run_all_tests()\n",
    "print(\"Number run:\", num_run)\n",
    "print(\"Number passed:\", num_passed)"
   ]
  },
  {
   "cell_type": "code",
   "execution_count": null,
   "metadata": {
    "collapsed": true
   },
   "outputs": [],
   "source": []
  }
 ],
 "metadata": {
  "kernelspec": {
   "display_name": "Python 3",
   "language": "python",
   "name": "python3"
  },
  "language_info": {
   "codemirror_mode": {
    "name": "ipython",
    "version": 3
   },
   "file_extension": ".py",
   "mimetype": "text/x-python",
   "name": "python",
   "nbconvert_exporter": "python",
   "pygments_lexer": "ipython3",
   "version": "3.5.1"
  }
 },
 "nbformat": 4,
 "nbformat_minor": 0
}
