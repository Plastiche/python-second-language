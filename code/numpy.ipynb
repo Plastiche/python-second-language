{
 "cells": [
  {
   "cell_type": "code",
   "execution_count": 120,
   "metadata": {
    "collapsed": false
   },
   "outputs": [],
   "source": [
    "%matplotlib inline\n",
    "import matplotlib.pyplot as plt\n",
    "import numpy as np"
   ]
  },
  {
   "cell_type": "markdown",
   "metadata": {},
   "source": [
    "# Array basics\n",
    "## Construction/Arithmetic"
   ]
  },
  {
   "cell_type": "code",
   "execution_count": 76,
   "metadata": {
    "collapsed": false
   },
   "outputs": [
    {
     "data": {
      "text/plain": [
       "array([  1.        ,   1.17201845,   1.35892541,   1.56253754,\n",
       "         1.78489319,   2.02827941,   2.29526231,   2.58872114,\n",
       "         2.91188643,   3.26838293,   3.66227766,   4.09813389,\n",
       "         4.58107171,   5.11683592,   5.71187234,   6.37341325,\n",
       "         7.10957344,   7.92945784,   8.84328235,   9.86250938,  11.        ])"
      ]
     },
     "execution_count": 76,
     "metadata": {},
     "output_type": "execute_result"
    }
   ],
   "source": [
    "# Array sequences\n",
    "array_sequence = np.array([1, 0, 0])\n",
    "array_multi = np.array([[1, 0],[0, 1]])\n",
    "array_multi2 = np.array([[[1, 2], [3, 4]], [[5, 6], [7, 8]]])\n",
    "array_complex = np.array([1 + 0j, 2, 3 + 1j])\n",
    "\n",
    "# shape attribute \n",
    "array_multi.shape\n",
    "\n",
    "# Buncha random values\n",
    "this_random = np.random.random(20)\n",
    "\n",
    "# Linear space\n",
    "this_arange = np.arange(0, 1, 0.05) # Does not include endpoint\n",
    "this_linspace = np.linspace(0, 1, 21) # Does include endpoint\n",
    "this_logspace = np.logspace(0, 1, 21)\n",
    "\n",
    "# Element-wise arithmetic\n",
    "this_linspace + 2\n",
    "this_linspace ** 2\n",
    "\n",
    "this_linspace + this_logspace\n",
    "#this_arange + this_linspace - Different shapes produce error"
   ]
  },
  {
   "cell_type": "code",
   "execution_count": 146,
   "metadata": {
    "collapsed": false
   },
   "outputs": [
    {
     "data": {
      "text/plain": [
       "<matplotlib.image.AxesImage at 0x113f42a90>"
      ]
     },
     "execution_count": 146,
     "metadata": {},
     "output_type": "execute_result"
    },
    {
     "data": {
      "image/png": "[encoded data removed]",
      "text/plain": [
       "<matplotlib.figure.Figure at 0x113f72d68>"
      ]
     },
     "metadata": {},
     "output_type": "display_data"
    }
   ],
   "source": [
    "# Zeroes, ones, random, eye, complex\n",
    "\n",
    "np.zeros(2)\n",
    "np.zeros((2,2))\n",
    "np.zeros((3, 3, 3))\n",
    "\n",
    "np.ones((3, 3, 3))\n",
    "\n",
    "np.random.random((3, 3, 3)) \n",
    "# We'll come back to this in visualization\n",
    "plt.imshow(np.random.random((10, 10)), interpolation=\"nearest\")"
   ]
  },
  {
   "cell_type": "markdown",
   "metadata": {},
   "source": [
    "## Manipulation/Slicing"
   ]
  },
  {
   "cell_type": "code",
   "execution_count": 116,
   "metadata": {
    "collapsed": false
   },
   "outputs": [
    {
     "data": {
      "text/plain": [
       "array([5, 6, 7, 8, 9])"
      ]
     },
     "execution_count": 116,
     "metadata": {},
     "output_type": "execute_result"
    }
   ],
   "source": [
    "# reshape\n",
    "seq = np.arange(0, 25)\n",
    "\n",
    "# slice\n",
    "seq[0:6]\n",
    "seq[:6]\n",
    "seq[5:10]\n",
    "seq[20:]\n",
    "\n",
    "# Quick reverse\n",
    "seq[::-1]\n",
    "\n",
    "#Reshape\n",
    "seq.reshape((5,5))\n",
    "seq = seq.reshape((5,5))\n",
    "seq[0, 0]\n",
    "seq[4, 4]\n",
    "seq[0:3, 0:3]\n",
    "seq[:, 1] # Select column\n",
    "seq[1, :] # Select row"
   ]
  },
  {
   "cell_type": "markdown",
   "metadata": {},
   "source": [
    "## Meshgrids"
   ]
  },
  {
   "cell_type": "code",
   "execution_count": 149,
   "metadata": {
    "collapsed": false
   },
   "outputs": [
    {
     "data": {
      "image/png": "[encoded data removed]",
      "text/plain": [
       "<matplotlib.figure.Figure at 0x10db4a048>"
      ]
     },
     "metadata": {},
     "output_type": "display_data"
    }
   ],
   "source": [
    "xrange = np.arange(0, 1.01, 0.01)\n",
    "yrange = np.arange(0, 1.01, 0.01)\n",
    "\n",
    "X, Y = np.meshgrid(xrange, yrange)\n",
    "# Different than imshow\n",
    "plt.pcolor(X, Y, X**2 + Y**2)\n",
    "plt.show()\n"
   ]
  }
 ],
 "metadata": {
  "kernelspec": {
   "display_name": "Python 3",
   "language": "python",
   "name": "python3"
  },
  "language_info": {
   "codemirror_mode": {
    "name": "ipython",
    "version": 3
   },
   "file_extension": ".py",
   "mimetype": "text/x-python",
   "name": "python",
   "nbconvert_exporter": "python",
   "pygments_lexer": "ipython3",
   "version": "3.5.1"
  }
 },
 "nbformat": 4,
 "nbformat_minor": 0
}
