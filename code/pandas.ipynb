{
 "cells": [
  {
   "cell_type": "markdown",
   "metadata": {
    "collapsed": true
   },
   "source": [
    "This module draws heavily from and modifies [Introduction to Pandas](https://github.com/fonnesbeck/statistical-analysis-python-tutorial) by Chris Fonnesbeck, which is licensed under the [Creative Commons Attribution 4.0 International License](http://creativecommons.org/licenses/by/4.0/).\n",
    "\n",
    "# Pandas"
   ]
  },
  {
   "cell_type": "code",
   "execution_count": null,
   "metadata": {
    "collapsed": true
   },
   "outputs": [],
   "source": [
    "import pandas as pd\n",
    "import numpy as np\n",
    "from IPython.display import display"
   ]
  },
  {
   "cell_type": "markdown",
   "metadata": {},
   "source": [
    "## Data structures"
   ]
  },
  {
   "cell_type": "code",
   "execution_count": null,
   "metadata": {
    "collapsed": false
   },
   "outputs": [],
   "source": [
    "# Series, indexes\n",
    "concs = pd.Series([1.1, 2.3, 1.2, 3.5],)\n",
    "concs.values\n",
    "concs.index\n",
    "\n",
    "# Explicit indices\n",
    "concs = pd.Series([1.1, 2.3, 1.2, 3.5],\n",
    "                  index = [\"CO2\", \"CH4\", \"NO2\", \"O3\"])\n",
    "\n",
    "# Accessing elements of series\n",
    "concs.CO2 # attribute\n",
    "concs['CH4'] # key\n",
    "[\"O\" in formula for formula in concs.index] # looping\n",
    "concs[0] # positional indexing\n",
    "\n",
    "# Naming the indices, the values\n",
    "concs.name = \"concentrations (ppb)\"\n",
    "concs.index.name = \"compound\"\n",
    "\n",
    "# Numpy-like behavior\n",
    "concs[0:2]\n",
    "concs + concs\n",
    "np.log(concs)\n",
    "concs[concs > 2]\n",
    "\n",
    "# Are these the same?  Think about how to ask this.\n",
    "slice1 = concs[\"CO2\":\"NO2\"]\n",
    "slice2 = concs[0:2]\n",
    "# Inclusive endpoints when slicing using indices\n",
    "\n",
    "# Construction using dictionaries, Note sorting\n",
    "concs_dict = {\"CO2\": 1.1, \"CH4\": 2.3, \n",
    "              \"NO2\": 1.2, \"O3\": 3.5}\n",
    "concs = pd.Series(concs_dict)\n",
    "\n",
    "# Specifying indices, NaN, alignment of dissimilar series\n",
    "concs2 = pd.Series(concs_dict, index=[\"CO2\", \"CH4\", \"NO2\", \"H2O\"])\n",
    "concs2.isnull()\n",
    "concs + concs2"
   ]
  },
  {
   "cell_type": "code",
   "execution_count": null,
   "metadata": {
    "collapsed": false
   },
   "outputs": [],
   "source": [
    "# DataFrames - Tabular data structures\n",
    "atmo = pd.DataFrame({\"conc\": [1.1, 2.3, 1.2, 3.5],\n",
    "                     \"weight\":[44, 16, 46, 48],\n",
    "                     \"formula\":[\"CO2\", \"CH4\", \"NO2\", \"O3\"]})\n",
    "\n",
    "# Indexes, columns\n",
    "atmo.index # like row labels\n",
    "atmo.columns\n",
    "\n",
    "# accessing columns by key, attribute\n",
    "atmo.weight\n",
    "atmo['formula']\n",
    "# diff from series, where index access via attribute/key\n",
    "\n",
    "# Accessing rows, why are these two things different?\n",
    "atmo.ix[0]\n",
    "atmo.ix[0:1]\n",
    "# Hint, use the type function\n",
    "\n",
    "atmo.T\n",
    "atmo.index = atmo.formula"
   ]
  },
  {
   "cell_type": "markdown",
   "metadata": {},
   "source": [
    "## Real data\n",
    "\n",
    "FIXME - get some real data"
   ]
  },
  {
   "cell_type": "code",
   "execution_count": null,
   "metadata": {
    "collapsed": true
   },
   "outputs": [],
   "source": []
  }
 ],
 "metadata": {
  "kernelspec": {
   "display_name": "Python 3",
   "language": "python",
   "name": "python3"
  },
  "language_info": {
   "codemirror_mode": {
    "name": "ipython",
    "version": 3
   },
   "file_extension": ".py",
   "mimetype": "text/x-python",
   "name": "python",
   "nbconvert_exporter": "python",
   "pygments_lexer": "ipython3",
   "version": "3.5.1"
  }
 },
 "nbformat": 4,
 "nbformat_minor": 0
}
