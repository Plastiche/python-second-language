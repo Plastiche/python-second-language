{
 "cells": [
  {
   "cell_type": "markdown",
   "metadata": {},
   "source": [
    "# Invasion Percolation\n",
    "\n",
    "A simple model of fluid forcing its way through a fractured medium (e.g., pollutants through rock).\n",
    "\n",
    "1.  Fill NxN grid of cells with random integers in range 1..R.\n",
    "2.  Mark center cell as \"filled\".\n",
    "3.  Repeatedly:\n",
    "    1.  Find lowest-valued neighbors on edge of filled region.\n",
    "    2.  Select one of those neighbors at random.\n",
    "    3.  Fill it.\n",
    "4.  Until filled region reaches boundary of grid.\n",
    "\n",
    "How to implement in code?"
   ]
  },
  {
   "cell_type": "code",
   "execution_count": 44,
   "metadata": {
    "collapsed": true
   },
   "outputs": [],
   "source": [
    "import numpy as np\n",
    "import random"
   ]
  },
  {
   "cell_type": "code",
   "execution_count": 56,
   "metadata": {
    "collapsed": true
   },
   "outputs": [],
   "source": [
    "def percolation(size, spread):\n",
    "    \"\"\"\n",
    "    Simulate invasion percolation on a size x size grid with values in [1..spread],\n",
    "    reporting density of final filled shape.\n",
    "    \"\"\"\n",
    "    \n",
    "    grid = make_grid(size, spread)\n",
    "    chosen = (int(size/2), int(size/2))\n",
    "    fill(grid, chosen)\n",
    "    while not on_boundary(grid, chosen):\n",
    "        chosen = choose_next(grid)\n",
    "        fill(grid, chosen)\n",
    "    return grid, calculate_density(grid)"
   ]
  },
  {
   "cell_type": "code",
   "execution_count": 57,
   "metadata": {
    "collapsed": true
   },
   "outputs": [],
   "source": [
    "def make_grid(size, spread):\n",
    "    \"\"\"\n",
    "    Create size x size grid filled with values in [1..spread].\n",
    "    \"\"\"\n",
    "    return np.random.randint(low=1, high=spread+1, size=(size, size))"
   ]
  },
  {
   "cell_type": "code",
   "execution_count": 58,
   "metadata": {
    "collapsed": false
   },
   "outputs": [],
   "source": [
    "def fill(grid, loc):\n",
    "    \"\"\"\n",
    "    Mark a cell as filled.\n",
    "    \"\"\"\n",
    "    grid[loc] = 0"
   ]
  },
  {
   "cell_type": "code",
   "execution_count": 59,
   "metadata": {
    "collapsed": false
   },
   "outputs": [],
   "source": [
    "def on_boundary(grid, loc):\n",
    "    \"\"\"\n",
    "    Is the specified cell on the boundary of the grid?\n",
    "    \"\"\"\n",
    "    grid_x, grid_y = grid.shape\n",
    "    loc_x, loc_y = loc\n",
    "    return (loc_x == 0) or (loc_y == 0) or (loc_x == (grid_x -1)) or (loc_y == (grid_y -1))"
   ]
  },
  {
   "cell_type": "code",
   "execution_count": 60,
   "metadata": {
    "collapsed": true
   },
   "outputs": [],
   "source": [
    "def calculate_density(grid):\n",
    "    \"\"\"\n",
    "    Return proportion of cells that are filled.\n",
    "    \"\"\"\n",
    "    filled = np.sum(grid == 0)\n",
    "    return filled / grid.size"
   ]
  },
  {
   "cell_type": "code",
   "execution_count": 61,
   "metadata": {
    "collapsed": true
   },
   "outputs": [],
   "source": [
    "def choose_next(grid):\n",
    "    \"\"\"\n",
    "    Find and return coordinates of next grid cell to fill.\n",
    "    \"\"\"\n",
    "    candidates = []\n",
    "    value = 1 + grid.max()\n",
    "    dim_x, dim_y = grid.shape\n",
    "    for x in range(dim_x):\n",
    "        for y in range(dim_y):\n",
    "            if grid[x, y] == 0:\n",
    "                pass\n",
    "            elif is_adjacent(grid, (x, y)):\n",
    "                if grid[x, y] < value:\n",
    "                    value = grid[x, y]\n",
    "                    candidates = [(x, y)]\n",
    "                elif grid[x, y] == value:\n",
    "                    candidates.append((x, y))\n",
    "    return random.choice(candidates)"
   ]
  },
  {
   "cell_type": "code",
   "execution_count": 72,
   "metadata": {
    "collapsed": true
   },
   "outputs": [],
   "source": [
    "def is_adjacent(grid, loc):\n",
    "    \"\"\"\n",
    "    Is the location (x, y) adjacent to a filled cell?\n",
    "    \"\"\"\n",
    "    x, y = loc\n",
    "    max_x, max_y = grid.shape\n",
    "    if (x > 0) and (grid[x-1, y] == 0):\n",
    "        return True\n",
    "    if (y > 0) and (grid[x, y-1] == 0):\n",
    "        return True\n",
    "    if (x < max_x-1) and (grid[x+1, y] == 0):\n",
    "        return True\n",
    "    if (y < max_y-1) and (grid[x, y+1] == 0):\n",
    "        return True\n",
    "    return False"
   ]
  },
  {
   "cell_type": "code",
   "execution_count": 73,
   "metadata": {
    "collapsed": false
   },
   "outputs": [
    {
     "name": "stdout",
     "output_type": "stream",
     "text": [
      "[[3 1 0 3 5]\n",
      " [5 5 0 2 4]\n",
      " [5 3 0 5 1]\n",
      " [3 5 2 5 1]\n",
      " [1 3 1 2 2]]\n",
      "0.12\n"
     ]
    }
   ],
   "source": [
    "grid, density = percolation(5, 5)\n",
    "print(grid)\n",
    "print(density)"
   ]
  },
  {
   "cell_type": "code",
   "execution_count": null,
   "metadata": {
    "collapsed": true
   },
   "outputs": [],
   "source": []
  }
 ],
 "metadata": {
  "kernelspec": {
   "display_name": "Python 3",
   "language": "python",
   "name": "python3"
  },
  "language_info": {
   "codemirror_mode": {
    "name": "ipython",
    "version": 3
   },
   "file_extension": ".py",
   "mimetype": "text/x-python",
   "name": "python",
   "nbconvert_exporter": "python",
   "pygments_lexer": "ipython3",
   "version": "3.5.1"
  }
 },
 "nbformat": 4,
 "nbformat_minor": 0
}
