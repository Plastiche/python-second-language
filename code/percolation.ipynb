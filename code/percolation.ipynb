{
 "cells": [
  {
   "cell_type": "markdown",
   "metadata": {},
   "source": [
    "# Invasion Percolation\n",
    "\n",
    "A simple model of fluid forcing its way through a fractured medium (e.g., pollutants through rock).\n",
    "\n",
    "1.  Fill NxN grid of cells with random integers in range 1..R.\n",
    "2.  Mark center cell as \"filled\".\n",
    "3.  Repeatedly:\n",
    "    1.  Find lowest-valued neighbors on edge of filled region.\n",
    "    2.  Select one of those neighbors at random.\n",
    "        -   \"At random\" is important: first, last, or arbitrary introduces bias\n",
    "    3.  Fill it.\n",
    "4.  Until filled region reaches boundary of grid.\n",
    "\n",
    "Our goals:\n",
    "\n",
    "1.  Make it work.\n",
    "2.  Make it right.\n",
    "3.  Make it fast."
   ]
  },
  {
   "cell_type": "markdown",
   "metadata": {},
   "source": [
    "## Implementation"
   ]
  },
  {
   "cell_type": "code",
   "execution_count": 13,
   "metadata": {
    "collapsed": true
   },
   "outputs": [],
   "source": [
    "# Use NumPy array to store grid.\n",
    "\n",
    "import numpy as np"
   ]
  },
  {
   "cell_type": "code",
   "execution_count": 14,
   "metadata": {
    "collapsed": true
   },
   "outputs": [],
   "source": [
    "# Develop top-down: write as if we already had the functions we need, then fill them in.\n",
    "\n",
    "def percolation(size, spread):\n",
    "    \"\"\"\n",
    "    Simulate invasion percolation on a size x size grid with values in [1..spread],\n",
    "    reporting density of final filled shape.\n",
    "    \"\"\"\n",
    "    \n",
    "    # Setup.\n",
    "    grid = make_grid(size, spread)\n",
    "    middle = size // 2\n",
    "    chosen = (middle, middle)\n",
    "    fill(grid, chosen)\n",
    "    \n",
    "    # Simulate filling.\n",
    "    while not on_boundary(grid, chosen):\n",
    "        chosen = choose_next(grid)\n",
    "        fill(grid, chosen)\n",
    "\n",
    "    # Return results (so that caller can decide how to report or display).\n",
    "    return grid, calculate_density(grid)"
   ]
  },
  {
   "cell_type": "code",
   "execution_count": 15,
   "metadata": {
    "collapsed": true
   },
   "outputs": [],
   "source": [
    "# Use 1..spread (inclusive) for values, and 0 to show filled cells.\n",
    "\n",
    "def make_grid(size, spread):\n",
    "    \"\"\"\n",
    "    Create size x size grid filled with values in [1..spread].\n",
    "    \"\"\"\n",
    "    return np.random.randint(low=1, high=spread+1, size=(size, size))"
   ]
  },
  {
   "cell_type": "code",
   "execution_count": 16,
   "metadata": {
    "collapsed": false
   },
   "outputs": [],
   "source": [
    "# Mark filled cells with 0.\n",
    "\n",
    "def fill(grid, loc):\n",
    "    \"\"\"\n",
    "    Mark a cell as filled.\n",
    "    \"\"\"\n",
    "    grid[loc] = 0"
   ]
  },
  {
   "cell_type": "code",
   "execution_count": 17,
   "metadata": {
    "collapsed": false
   },
   "outputs": [],
   "source": [
    "# Next easy function is test against boundary.\n",
    "\n",
    "def on_boundary(grid, loc):\n",
    "    \"\"\"\n",
    "    Is the specified cell on the boundary of the grid?\n",
    "    \"\"\"\n",
    "    grid_x, grid_y = grid.shape\n",
    "    loc_x, loc_y = loc\n",
    "    return (loc_x == 0) or (loc_y == 0) or (loc_x == (grid_x -1)) or (loc_y == (grid_y -1))"
   ]
  },
  {
   "cell_type": "code",
   "execution_count": 18,
   "metadata": {
    "collapsed": true
   },
   "outputs": [],
   "source": [
    "# Calculating density is easy using built-in methods of NumPy arrays.\n",
    "\n",
    "def calculate_density(grid):\n",
    "    \"\"\"\n",
    "    Return proportion of cells that are filled.\n",
    "    \"\"\"\n",
    "    filled = np.sum(grid == 0)\n",
    "    return filled / grid.size"
   ]
  },
  {
   "cell_type": "code",
   "execution_count": 19,
   "metadata": {
    "collapsed": true
   },
   "outputs": [],
   "source": [
    "# This is the heart of the whole program.\n",
    "\n",
    "# Discover while we're writing this function that we need Python's plain old random library.\n",
    "import random\n",
    "\n",
    "def choose_next(grid):\n",
    "    \"\"\"\n",
    "    Find and return coordinates of next grid cell to fill.\n",
    "    \"\"\"\n",
    "    candidates = []\n",
    "    value = 1 + grid.max()\n",
    "    dim_x, dim_y = grid.shape\n",
    "    for x in range(dim_x):\n",
    "        for y in range(dim_y):\n",
    "            # Already filled.\n",
    "            if grid[x, y] == 0:\n",
    "                pass\n",
    "            # Unfilled and adjacent.\n",
    "            elif is_adjacent(grid, (x, y)):\n",
    "                if grid[x, y] < value:\n",
    "                    value = grid[x, y]\n",
    "                    candidates = [(x, y)]\n",
    "                elif grid[x, y] == value:\n",
    "                    candidates.append((x, y))\n",
    "            # Fall through and do nothing if unfilled and not adjacent.\n",
    "    \n",
    "    # Choose a list element at random.\n",
    "    return random.choice(candidates)"
   ]
  },
  {
   "cell_type": "code",
   "execution_count": 20,
   "metadata": {
    "collapsed": true
   },
   "outputs": [],
   "source": [
    "# Helper function: could write this inline in choose_next, but that function is already hard to read.\n",
    "\n",
    "def is_adjacent(grid, loc):\n",
    "    \"\"\"\n",
    "    Is the location (x, y) adjacent to a filled cell?\n",
    "    \"\"\"\n",
    "    x, y = loc\n",
    "    max_x, max_y = grid.shape\n",
    "    if (x > 0) and (grid[x-1, y] == 0):\n",
    "        return True\n",
    "    if (y > 0) and (grid[x, y-1] == 0):\n",
    "        return True\n",
    "    if (x < max_x-1) and (grid[x+1, y] == 0):\n",
    "        return True\n",
    "    if (y < max_y-1) and (grid[x, y+1] == 0):\n",
    "        return True\n",
    "    return False"
   ]
  },
  {
   "cell_type": "markdown",
   "metadata": {},
   "source": [
    "## Simple Test"
   ]
  },
  {
   "cell_type": "code",
   "execution_count": 21,
   "metadata": {
    "collapsed": false
   },
   "outputs": [
    {
     "name": "stdout",
     "output_type": "stream",
     "text": [
      "[[1 3 5 4 3]\n",
      " [1 4 4 3 5]\n",
      " [2 3 0 2 2]\n",
      " [0 0 0 4 2]\n",
      " [3 3 5 1 1]]\n",
      "0.16\n"
     ]
    }
   ],
   "source": [
    "grid, density = percolation(5, 5)\n",
    "print(grid)\n",
    "print(density)"
   ]
  },
  {
   "cell_type": "markdown",
   "metadata": {},
   "source": [
    "## Visualization"
   ]
  },
  {
   "cell_type": "code",
   "execution_count": 22,
   "metadata": {
    "collapsed": false
   },
   "outputs": [],
   "source": [
    "%matplotlib inline\n",
    "from matplotlib import pyplot as plt"
   ]
  },
  {
   "cell_type": "code",
   "execution_count": 24,
   "metadata": {
    "collapsed": false
   },
   "outputs": [
    {
     "data": {
      "text/plain": [
       "<matplotlib.image.AxesImage at 0x10da8a470>"
      ]
     },
     "execution_count": 24,
     "metadata": {},
     "output_type": "execute_result"
    },
    {
     "data": {
      "image/png": "[encoded data removed]",
      "text/plain": [
       "<matplotlib.figure.Figure at 0x10d4ea6a0>"
      ]
     },
     "metadata": {},
     "output_type": "display_data"
    }
   ],
   "source": [
    "grid, density = percolation(61, 20)\n",
    "grid[grid>0] = 1\n",
    "plt.imshow(grid)"
   ]
  },
  {
   "cell_type": "code",
   "execution_count": null,
   "metadata": {
    "collapsed": true
   },
   "outputs": [],
   "source": []
  }
 ],
 "metadata": {
  "kernelspec": {
   "display_name": "Python 3",
   "language": "python",
   "name": "python3"
  },
  "language_info": {
   "codemirror_mode": {
    "name": "ipython",
    "version": 3
   },
   "file_extension": ".py",
   "mimetype": "text/x-python",
   "name": "python",
   "nbconvert_exporter": "python",
   "pygments_lexer": "ipython3",
   "version": "3.5.1"
  }
 },
 "nbformat": 4,
 "nbformat_minor": 0
}
