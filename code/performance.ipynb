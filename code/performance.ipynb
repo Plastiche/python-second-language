{
 "cells": [
  {
   "cell_type": "markdown",
   "metadata": {},
   "source": [
    "# Improving Performance of Invasion Percolation\n",
    "\n",
    "* Use sets"
   ]
  },
  {
   "cell_type": "code",
   "execution_count": 4,
   "metadata": {
    "collapsed": true
   },
   "outputs": [],
   "source": [
    "import numpy as np\n",
    "import random"
   ]
  },
  {
   "cell_type": "code",
   "execution_count": 5,
   "metadata": {
    "collapsed": true
   },
   "outputs": [],
   "source": [
    "def percolation(size, spread):\n",
    "    \"\"\"\n",
    "    Simulate invasion percolation on a size x size grid with values in [1..spread],\n",
    "    reporting density of final filled shape.\n",
    "    \"\"\"\n",
    "\n",
    "    assert (type(size) == int) and ((size > 0) and (size % 2 == 1)), 'size must be positive odd integer'\n",
    "    assert (type(spread) == int) and (spread > 0), 'spread must be non-negative integer'\n",
    "    grid = make_grid(size, spread)\n",
    "    boundary = make_boundary(spread)\n",
    "    chosen = (int(size/2), int(size/2))\n",
    "    fill(grid, chosen)\n",
    "    while not on_boundary(grid, chosen):\n",
    "        extend_boundary(grid, boundary, chosen)\n",
    "        chosen = choose_next(grid, boundary)\n",
    "        fill(grid, chosen)\n",
    "    return grid, calculate_density(grid)"
   ]
  },
  {
   "cell_type": "code",
   "execution_count": 6,
   "metadata": {
    "collapsed": true
   },
   "outputs": [],
   "source": [
    "def make_grid(size, spread):\n",
    "    \"\"\"\n",
    "    Create size x size grid filled with values in [1..spread].\n",
    "    \"\"\"\n",
    "    return np.random.randint(low=1, high=spread+1, size=(size, size))"
   ]
  },
  {
   "cell_type": "code",
   "execution_count": 7,
   "metadata": {
    "collapsed": false
   },
   "outputs": [],
   "source": [
    "def fill(grid, loc):\n",
    "    \"\"\"\n",
    "    Mark a cell as filled.\n",
    "    \"\"\"\n",
    "    grid[loc] = 0"
   ]
  },
  {
   "cell_type": "code",
   "execution_count": 8,
   "metadata": {
    "collapsed": false
   },
   "outputs": [],
   "source": [
    "def on_boundary(grid, loc):\n",
    "    \"\"\"\n",
    "    Is the specified cell on the boundary of the grid?\n",
    "    \"\"\"\n",
    "    grid_x, grid_y = grid.shape\n",
    "    loc_x, loc_y = loc\n",
    "    return (loc_x == 0) or (loc_y == 0) or (loc_x == (grid_x -1)) or (loc_y == (grid_y -1))\n",
    "\n",
    "def test_on_boundary():\n",
    "    grid = np.array([[1, 2, 3], [4, 5, 6], [7, 8, 9]])\n",
    "    assert on_boundary(grid, (0, 0))\n",
    "    assert not on_boundary(grid, (1, 1))\n",
    "    assert on_boundary(grid, (2, 0))"
   ]
  },
  {
   "cell_type": "code",
   "execution_count": 9,
   "metadata": {
    "collapsed": true
   },
   "outputs": [],
   "source": [
    "def calculate_density(grid):\n",
    "    \"\"\"\n",
    "    Return proportion of cells that are filled.\n",
    "    \"\"\"\n",
    "    filled = np.sum(grid == 0)\n",
    "    return filled / grid.size"
   ]
  },
  {
   "cell_type": "code",
   "execution_count": 10,
   "metadata": {
    "collapsed": false
   },
   "outputs": [],
   "source": [
    "def make_boundary(spread):\n",
    "    \"\"\"\n",
    "    Create object to keep track of boundary cells.\n",
    "    \"\"\"\n",
    "    result = []\n",
    "    for i in range(spread + 1):\n",
    "        result.append(set())\n",
    "    return result\n",
    "\n",
    "def test_make_boundary():\n",
    "    assert make_boundary(3) == [set(), set(), set(), set()]"
   ]
  },
  {
   "cell_type": "code",
   "execution_count": 11,
   "metadata": {
    "collapsed": false
   },
   "outputs": [],
   "source": [
    "def extend_boundary(grid, boundary, loc):\n",
    "    \"\"\"\n",
    "    Extend boundary with unfilled cells next to given location.\n",
    "    \"\"\"\n",
    "    loc_x, loc_y = loc\n",
    "    for (x, y) in ((loc_x-1, loc_y), (loc_x + 1, loc_y), (loc_x, loc_y-1), (loc_x, loc_y+1)):\n",
    "        if grid[x, y] != 0:\n",
    "            boundary[grid[x, y]].add((x, y))\n",
    "\n",
    "def test_extend_boundary():\n",
    "    grid = np.array([[1, 2, 3], [4, 5, 6], [7, 8, 9]])\n",
    "    boundary = make_boundary(9)\n",
    "    extend_boundary(grid, boundary, (1, 1))\n",
    "    assert boundary == [set(), set(), {(0, 1)}, set(), {(1, 0)}, set(), {(1, 2)}, set(), {(2, 1)}, set()]\n",
    "\n",
    "test_extend_boundary()"
   ]
  },
  {
   "cell_type": "code",
   "execution_count": 12,
   "metadata": {
    "collapsed": true
   },
   "outputs": [],
   "source": [
    "def choose_next(grid, boundary):\n",
    "    \"\"\"\n",
    "    Find and return coordinates of next grid cell to fill.\n",
    "    \"\"\"\n",
    "    for val in range(len(boundary)):\n",
    "        if boundary[val]:\n",
    "            break\n",
    "    loc = random.choice(list(boundary[val]))\n",
    "    boundary[val].discard(loc)\n",
    "    return loc"
   ]
  },
  {
   "cell_type": "code",
   "execution_count": 13,
   "metadata": {
    "collapsed": true
   },
   "outputs": [],
   "source": [
    "def is_adjacent(grid, loc):\n",
    "    \"\"\"\n",
    "    Is the location (x, y) adjacent to a filled cell?\n",
    "    \"\"\"\n",
    "    x, y = loc\n",
    "    max_x, max_y = grid.shape\n",
    "    if grid[loc] == 0:\n",
    "        return False\n",
    "    if (x > 0) and (grid[x-1, y] == 0):\n",
    "        return True\n",
    "    if (y > 0) and (grid[x, y-1] == 0):\n",
    "        return True\n",
    "    if (x < max_x-1) and (grid[x+1, y] == 0):\n",
    "        return True\n",
    "    if (y < max_y-1) and (grid[x, y+1] == 0):\n",
    "        return True\n",
    "    return False\n",
    "\n",
    "def test_is_adjacent():\n",
    "    grid = np.array([[0, 1, 2], [3, 4, 5], [6, 7, 8]])\n",
    "    assert not is_adjacent(grid, (0, 0))\n",
    "    assert is_adjacent(grid, (1, 0))\n",
    "    assert is_adjacent(grid, (0, 1))\n",
    "    assert not is_adjacent(grid, (1, 1))\n",
    "    assert not is_adjacent(grid, (2, 0))\n",
    "    assert not is_adjacent(grid, (2, 1))\n",
    "    assert not is_adjacent(grid, (0, 2))\n",
    "    assert not is_adjacent(grid, (1, 2))\n",
    "    assert not is_adjacent(grid, (2, 2))"
   ]
  },
  {
   "cell_type": "code",
   "execution_count": 14,
   "metadata": {
    "collapsed": false
   },
   "outputs": [],
   "source": [
    "def test_all():\n",
    "    test_on_boundary()\n",
    "    test_is_adjacent()\n",
    "    test_make_boundary()"
   ]
  },
  {
   "cell_type": "code",
   "execution_count": 15,
   "metadata": {
    "collapsed": false
   },
   "outputs": [],
   "source": [
    "test_all()"
   ]
  },
  {
   "cell_type": "code",
   "execution_count": 30,
   "metadata": {
    "collapsed": false
   },
   "outputs": [
    {
     "data": {
      "text/plain": [
       "(array([[4, 4, 3, 1, 2],\n",
       "        [2, 5, 0, 3, 5],\n",
       "        [2, 3, 0, 4, 1],\n",
       "        [3, 3, 0, 1, 1],\n",
       "        [4, 3, 0, 2, 4]]), 0.16)"
      ]
     },
     "execution_count": 30,
     "metadata": {},
     "output_type": "execute_result"
    }
   ],
   "source": [
    "percolation(5, 5)"
   ]
  },
  {
   "cell_type": "code",
   "execution_count": 37,
   "metadata": {
    "collapsed": false
   },
   "outputs": [
    {
     "data": {
      "text/plain": [
       "0.09253485100634862"
      ]
     },
     "execution_count": 37,
     "metadata": {},
     "output_type": "execute_result"
    }
   ],
   "source": [
    "import timeit\n",
    "timeit.timeit(stmt='percolation(21, 10)', number=200, setup='from __main__ import percolation')"
   ]
  },
  {
   "cell_type": "code",
   "execution_count": null,
   "metadata": {
    "collapsed": true
   },
   "outputs": [],
   "source": []
  }
 ],
 "metadata": {
  "kernelspec": {
   "display_name": "Python 3",
   "language": "python",
   "name": "python3"
  },
  "language_info": {
   "codemirror_mode": {
    "name": "ipython",
    "version": 3
   },
   "file_extension": ".py",
   "mimetype": "text/x-python",
   "name": "python",
   "nbconvert_exporter": "python",
   "pygments_lexer": "ipython3",
   "version": "3.5.1"
  }
 },
 "nbformat": 4,
 "nbformat_minor": 0
}
