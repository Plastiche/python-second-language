{
 "cells": [
  {
   "cell_type": "markdown",
   "metadata": {},
   "source": [
    "# Profiling Invasion Percolation\n",
    "\n",
    "* How long does it take to run?\n",
    "* Why?"
   ]
  },
  {
   "cell_type": "code",
   "execution_count": 45,
   "metadata": {
    "collapsed": true
   },
   "outputs": [],
   "source": [
    "import numpy as np\n",
    "import random"
   ]
  },
  {
   "cell_type": "code",
   "execution_count": 46,
   "metadata": {
    "collapsed": true
   },
   "outputs": [],
   "source": [
    "def percolation(size, spread):\n",
    "    \"\"\"\n",
    "    Simulate invasion percolation on a size x size grid with values in [1..spread],\n",
    "    reporting density of final filled shape.\n",
    "    \"\"\"\n",
    "\n",
    "    assert (type(size) == int) and ((size > 0) and (size % 2 == 1)), 'size must be positive odd integer'\n",
    "    assert (type(spread) == int) and (spread > 0), 'spread must be non-negative integer'\n",
    "    grid = make_grid(size, spread)\n",
    "    chosen = (int(size/2), int(size/2))\n",
    "    fill(grid, chosen)\n",
    "    while not on_boundary(grid, chosen):\n",
    "        chosen = choose_next(grid)\n",
    "        fill(grid, chosen)\n",
    "    return grid, calculate_density(grid)"
   ]
  },
  {
   "cell_type": "code",
   "execution_count": 47,
   "metadata": {
    "collapsed": true
   },
   "outputs": [],
   "source": [
    "def make_grid(size, spread):\n",
    "    \"\"\"\n",
    "    Create size x size grid filled with values in [1..spread].\n",
    "    \"\"\"\n",
    "    return np.random.randint(low=1, high=spread+1, size=(size, size))"
   ]
  },
  {
   "cell_type": "code",
   "execution_count": 48,
   "metadata": {
    "collapsed": false
   },
   "outputs": [],
   "source": [
    "def fill(grid, loc):\n",
    "    \"\"\"\n",
    "    Mark a cell as filled.\n",
    "    \"\"\"\n",
    "    grid[loc] = 0"
   ]
  },
  {
   "cell_type": "code",
   "execution_count": 49,
   "metadata": {
    "collapsed": false
   },
   "outputs": [],
   "source": [
    "def on_boundary(grid, loc):\n",
    "    \"\"\"\n",
    "    Is the specified cell on the boundary of the grid?\n",
    "    \"\"\"\n",
    "    grid_x, grid_y = grid.shape\n",
    "    loc_x, loc_y = loc\n",
    "    return (loc_x == 0) or (loc_y == 0) or (loc_x == (grid_x -1)) or (loc_y == (grid_y -1))\n",
    "\n",
    "def test_on_boundary():\n",
    "    grid = np.array([[1, 2, 3], [4, 5, 6], [7, 8, 9]])\n",
    "    assert on_boundary(grid, (0, 0))\n",
    "    assert not on_boundary(grid, (1, 1))\n",
    "    assert on_boundary(grid, (2, 0))"
   ]
  },
  {
   "cell_type": "code",
   "execution_count": 50,
   "metadata": {
    "collapsed": true
   },
   "outputs": [],
   "source": [
    "def calculate_density(grid):\n",
    "    \"\"\"\n",
    "    Return proportion of cells that are filled.\n",
    "    \"\"\"\n",
    "    filled = np.sum(grid == 0)\n",
    "    return filled / grid.size"
   ]
  },
  {
   "cell_type": "code",
   "execution_count": 51,
   "metadata": {
    "collapsed": true
   },
   "outputs": [],
   "source": [
    "def choose_next(grid):\n",
    "    \"\"\"\n",
    "    Find and return coordinates of next grid cell to fill.\n",
    "    \"\"\"\n",
    "    candidates = []\n",
    "    value = 1 + grid.max()\n",
    "    dim_x, dim_y = grid.shape\n",
    "    for x in range(dim_x):\n",
    "        for y in range(dim_y):\n",
    "            if grid[x, y] == 0:\n",
    "                pass\n",
    "            elif is_adjacent(grid, (x, y)):\n",
    "                if grid[x, y] < value:\n",
    "                    value = grid[x, y]\n",
    "                    candidates = [(x, y)]\n",
    "                elif grid[x, y] == value:\n",
    "                    candidates.append((x, y))\n",
    "    return random.choice(candidates)\n",
    "\n",
    "def test_choose_next():\n",
    "    assert choose_next(np.array([[9, 1, 9], [9, 0, 9], [9, 9, 9]])) == (0, 1)\n",
    "    assert choose_next(np.array([[9, 2, 9], [9, 0, 9], [9, 1, 9]])) == (2, 1)"
   ]
  },
  {
   "cell_type": "code",
   "execution_count": 52,
   "metadata": {
    "collapsed": true
   },
   "outputs": [],
   "source": [
    "def is_adjacent(grid, loc):\n",
    "    \"\"\"\n",
    "    Is the location (x, y) adjacent to a filled cell?\n",
    "    \"\"\"\n",
    "    x, y = loc\n",
    "    max_x, max_y = grid.shape\n",
    "    if grid[loc] == 0:\n",
    "        return False\n",
    "    if (x > 0) and (grid[x-1, y] == 0):\n",
    "        return True\n",
    "    if (y > 0) and (grid[x, y-1] == 0):\n",
    "        return True\n",
    "    if (x < max_x-1) and (grid[x+1, y] == 0):\n",
    "        return True\n",
    "    if (y < max_y-1) and (grid[x, y+1] == 0):\n",
    "        return True\n",
    "    return False\n",
    "\n",
    "def test_is_adjacent():\n",
    "    grid = np.array([[0, 1, 2], [3, 4, 5], [6, 7, 8]])\n",
    "    assert not is_adjacent(grid, (0, 0))\n",
    "    assert is_adjacent(grid, (1, 0))\n",
    "    assert is_adjacent(grid, (0, 1))\n",
    "    assert not is_adjacent(grid, (1, 1))\n",
    "    assert not is_adjacent(grid, (2, 0))\n",
    "    assert not is_adjacent(grid, (2, 1))\n",
    "    assert not is_adjacent(grid, (0, 2))\n",
    "    assert not is_adjacent(grid, (1, 2))\n",
    "    assert not is_adjacent(grid, (2, 2))"
   ]
  },
  {
   "cell_type": "code",
   "execution_count": 53,
   "metadata": {
    "collapsed": false
   },
   "outputs": [],
   "source": [
    "def test_all():\n",
    "    test_on_boundary()\n",
    "    test_is_adjacent()\n",
    "    test_choose_next()"
   ]
  },
  {
   "cell_type": "code",
   "execution_count": 54,
   "metadata": {
    "collapsed": false
   },
   "outputs": [
    {
     "data": {
      "text/plain": [
       "3.790200571529567e-05"
      ]
     },
     "execution_count": 54,
     "metadata": {},
     "output_type": "execute_result"
    }
   ],
   "source": [
    "import timeit\n",
    "\n",
    "timeit.timeit(stmt='1+2', number=1000)"
   ]
  },
  {
   "cell_type": "code",
   "execution_count": 55,
   "metadata": {
    "collapsed": false
   },
   "outputs": [
    {
     "data": {
      "text/plain": [
       "10.64762847199745"
      ]
     },
     "execution_count": 55,
     "metadata": {},
     "output_type": "execute_result"
    }
   ],
   "source": [
    "timeit.timeit(stmt='percolation(21, 10)', number=200, setup='from __main__ import percolation')"
   ]
  },
  {
   "cell_type": "code",
   "execution_count": 56,
   "metadata": {
    "collapsed": false
   },
   "outputs": [
    {
     "name": "stdout",
     "output_type": "stream",
     "text": [
      "         16664919 function calls in 59.556 seconds\n",
      "\n",
      "   Ordered by: internal time\n",
      "\n",
      "   ncalls  tottime  percall  cumtime  percall filename:lineno(function)\n",
      " 16632315   46.030    0.000   46.030    0.000 <ipython-input-52-1981cadaa47b>:1(is_adjacent)\n",
      "      855   13.453    0.016   59.549    0.070 <ipython-input-51-fce02aa069e4>:1(choose_next)\n",
      "      856    0.047    0.000    0.047    0.000 {method 'reduce' of 'numpy.ufunc' objects}\n",
      "    22474    0.006    0.000    0.006    0.000 {method 'append' of 'list' objects}\n",
      "        1    0.004    0.004   59.556   59.556 <ipython-input-46-e852c9523ac7>:1(percolation)\n",
      "      855    0.004    0.000    0.010    0.000 random.py:250(choice)\n",
      "      855    0.004    0.000    0.005    0.000 random.py:220(_randbelow)\n",
      "      855    0.002    0.000    0.049    0.000 {method 'max' of 'numpy.ndarray' objects}\n",
      "     1567    0.001    0.000    0.001    0.000 {method 'getrandbits' of '_random.Random' objects}\n",
      "      856    0.001    0.000    0.001    0.000 <ipython-input-48-68e3576604cc>:1(fill)\n",
      "      856    0.001    0.000    0.001    0.000 <ipython-input-49-5a9178013bf7>:1(on_boundary)\n",
      "      855    0.001    0.000    0.048    0.000 _methods.py:25(_amax)\n",
      "        1    0.001    0.001    0.001    0.001 {method 'randint' of 'mtrand.RandomState' objects}\n",
      "      855    0.001    0.000    0.001    0.000 {built-in method builtins.len}\n",
      "      855    0.000    0.000    0.000    0.000 {method 'bit_length' of 'int' objects}\n",
      "        1    0.000    0.000    0.000    0.000 <ipython-input-50-d1f26958d098>:1(calculate_density)\n",
      "        1    0.000    0.000   59.556   59.556 {built-in method builtins.exec}\n",
      "        1    0.000    0.000    0.000    0.000 fromnumeric.py:1737(sum)\n",
      "        1    0.000    0.000   59.556   59.556 <string>:1(<module>)\n",
      "        1    0.000    0.000    0.001    0.001 <ipython-input-47-48afa177ee64>:1(make_grid)\n",
      "        1    0.000    0.000    0.000    0.000 {built-in method builtins.isinstance}\n",
      "        1    0.000    0.000    0.000    0.000 _methods.py:31(_sum)\n",
      "        1    0.000    0.000    0.000    0.000 {method 'disable' of '_lsprof.Profiler' objects}\n",
      "\n",
      "\n"
     ]
    }
   ],
   "source": [
    "import cProfile\n",
    "cProfile.run('percolation(141, 10)', sort='tottime')"
   ]
  },
  {
   "cell_type": "code",
   "execution_count": null,
   "metadata": {
    "collapsed": true
   },
   "outputs": [],
   "source": []
  }
 ],
 "metadata": {
  "kernelspec": {
   "display_name": "Python 3",
   "language": "python",
   "name": "python3"
  },
  "language_info": {
   "codemirror_mode": {
    "name": "ipython",
    "version": 3
   },
   "file_extension": ".py",
   "mimetype": "text/x-python",
   "name": "python",
   "nbconvert_exporter": "python",
   "pygments_lexer": "ipython3",
   "version": "3.5.1"
  }
 },
 "nbformat": 4,
 "nbformat_minor": 0
}
