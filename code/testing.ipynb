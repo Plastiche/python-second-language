{
 "cells": [
  {
   "cell_type": "markdown",
   "metadata": {},
   "source": [
    "# Testing Invasion Percolation\n",
    "\n",
    "*   Add `assert` statements to check initial parameters\n",
    "*   Then what?"
   ]
  },
  {
   "cell_type": "code",
   "execution_count": 1,
   "metadata": {
    "collapsed": true
   },
   "outputs": [],
   "source": [
    "import numpy as np\n",
    "import random"
   ]
  },
  {
   "cell_type": "code",
   "execution_count": 39,
   "metadata": {
    "collapsed": true
   },
   "outputs": [],
   "source": [
    "def percolation(size, spread):\n",
    "    \"\"\"\n",
    "    Simulate invasion percolation on a size x size grid with values in [1..spread],\n",
    "    reporting density of final filled shape.\n",
    "    \"\"\"\n",
    "\n",
    "    assert (type(size) == int) and ((size > 0) and (size % 2 == 1)), 'size must be positive odd integer'\n",
    "    assert (type(spread) == int) and (spread > 0), 'spread must be non-negative integer'\n",
    "    grid = make_grid(size, spread)\n",
    "    chosen = (int(size/2), int(size/2))\n",
    "    fill(grid, chosen)\n",
    "    while not on_boundary(grid, chosen):\n",
    "        chosen = choose_next(grid)\n",
    "        fill(grid, chosen)\n",
    "    return grid, calculate_density(grid)"
   ]
  },
  {
   "cell_type": "code",
   "execution_count": 40,
   "metadata": {
    "collapsed": true
   },
   "outputs": [],
   "source": [
    "def make_grid(size, spread):\n",
    "    \"\"\"\n",
    "    Create size x size grid filled with values in [1..spread].\n",
    "    \"\"\"\n",
    "    return np.random.randint(low=1, high=spread+1, size=(size, size))"
   ]
  },
  {
   "cell_type": "code",
   "execution_count": 41,
   "metadata": {
    "collapsed": false
   },
   "outputs": [],
   "source": [
    "def fill(grid, loc):\n",
    "    \"\"\"\n",
    "    Mark a cell as filled.\n",
    "    \"\"\"\n",
    "    grid[loc] = 0"
   ]
  },
  {
   "cell_type": "code",
   "execution_count": 43,
   "metadata": {
    "collapsed": false
   },
   "outputs": [],
   "source": [
    "def on_boundary(grid, loc):\n",
    "    \"\"\"\n",
    "    Is the specified cell on the boundary of the grid?\n",
    "    \"\"\"\n",
    "    grid_x, grid_y = grid.shape\n",
    "    loc_x, loc_y = loc\n",
    "    return (loc_x == 0) or (loc_y == 0) or (loc_x == (grid_x -1)) or (loc_y == (grid_y -1))\n",
    "\n",
    "def test_on_boundary():\n",
    "    grid = np.array([[1, 2, 3], [4, 5, 6], [7, 8, 9]])\n",
    "    assert on_boundary(grid, (0, 0))\n",
    "    assert not on_boundary(grid, (1, 1))\n",
    "    assert on_boundary(grid, (2, 0))"
   ]
  },
  {
   "cell_type": "code",
   "execution_count": 44,
   "metadata": {
    "collapsed": true
   },
   "outputs": [],
   "source": [
    "def calculate_density(grid):\n",
    "    \"\"\"\n",
    "    Return proportion of cells that are filled.\n",
    "    \"\"\"\n",
    "    filled = np.sum(grid == 0)\n",
    "    return filled / grid.size"
   ]
  },
  {
   "cell_type": "code",
   "execution_count": 55,
   "metadata": {
    "collapsed": true
   },
   "outputs": [],
   "source": [
    "def choose_next(grid):\n",
    "    \"\"\"\n",
    "    Find and return coordinates of next grid cell to fill.\n",
    "    \"\"\"\n",
    "    candidates = []\n",
    "    value = 1 + grid.max()\n",
    "    dim_x, dim_y = grid.shape\n",
    "    for x in range(dim_x):\n",
    "        for y in range(dim_y):\n",
    "            if grid[x, y] == 0:\n",
    "                pass\n",
    "            elif is_adjacent(grid, (x, y)):\n",
    "                if grid[x, y] < value:\n",
    "                    value = grid[x, y]\n",
    "                    candidates = [(x, y)]\n",
    "                elif grid[x, y] == value:\n",
    "                    candidates.append((x, y))\n",
    "    return random.choice(candidates)\n",
    "\n",
    "def test_choose_next():\n",
    "    assert choose_next(np.array([[9, 1, 9], [9, 0, 9], [9, 9, 9]])) == (0, 1)\n",
    "    assert choose_next(np.array([[9, 2, 9], [9, 0, 9], [9, 1, 9]])) == (2, 1)"
   ]
  },
  {
   "cell_type": "code",
   "execution_count": 46,
   "metadata": {
    "collapsed": true
   },
   "outputs": [],
   "source": [
    "def is_adjacent(grid, loc):\n",
    "    \"\"\"\n",
    "    Is the location (x, y) adjacent to a filled cell?\n",
    "    \"\"\"\n",
    "    x, y = loc\n",
    "    max_x, max_y = grid.shape\n",
    "    if grid[loc] == 0:\n",
    "        return False\n",
    "    if (x > 0) and (grid[x-1, y] == 0):\n",
    "        return True\n",
    "    if (y > 0) and (grid[x, y-1] == 0):\n",
    "        return True\n",
    "    if (x < max_x-1) and (grid[x+1, y] == 0):\n",
    "        return True\n",
    "    if (y < max_y-1) and (grid[x, y+1] == 0):\n",
    "        return True\n",
    "    return False\n",
    "\n",
    "def test_is_adjacent():\n",
    "    grid = np.array([[0, 1, 2], [3, 4, 5], [6, 7, 8]])\n",
    "    assert not is_adjacent(grid, (0, 0))\n",
    "    assert is_adjacent(grid, (1, 0))\n",
    "    assert is_adjacent(grid, (0, 1))\n",
    "    assert not is_adjacent(grid, (1, 1))\n",
    "    assert not is_adjacent(grid, (2, 0))\n",
    "    assert not is_adjacent(grid, (2, 1))\n",
    "    assert not is_adjacent(grid, (0, 2))\n",
    "    assert not is_adjacent(grid, (1, 2))\n",
    "    assert not is_adjacent(grid, (2, 2))"
   ]
  },
  {
   "cell_type": "code",
   "execution_count": 51,
   "metadata": {
    "collapsed": false
   },
   "outputs": [],
   "source": [
    "def test_all():\n",
    "    test_on_boundary()\n",
    "    test_is_adjacent()\n",
    "    test_choose_next()"
   ]
  },
  {
   "cell_type": "code",
   "execution_count": 56,
   "metadata": {
    "collapsed": false
   },
   "outputs": [],
   "source": [
    "test_all()"
   ]
  },
  {
   "cell_type": "code",
   "execution_count": null,
   "metadata": {
    "collapsed": true
   },
   "outputs": [],
   "source": []
  }
 ],
 "metadata": {
  "kernelspec": {
   "display_name": "Python 3",
   "language": "python",
   "name": "python3"
  },
  "language_info": {
   "codemirror_mode": {
    "name": "ipython",
    "version": 3
   },
   "file_extension": ".py",
   "mimetype": "text/x-python",
   "name": "python",
   "nbconvert_exporter": "python",
   "pygments_lexer": "ipython3",
   "version": "3.5.1"
  }
 },
 "nbformat": 4,
 "nbformat_minor": 0
}
